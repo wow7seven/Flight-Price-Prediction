{
  "cells": [
    {
      "cell_type": "markdown",
      "metadata": {
        "id": "view-in-github",
        "colab_type": "text"
      },
      "source": [
        "<a href=\"https://colab.research.google.com/github/wow7seven/Flight-Price-Prediction/blob/main/FlightPrice.ipynb\" target=\"_parent\"><img src=\"https://colab.research.google.com/assets/colab-badge.svg\" alt=\"Open In Colab\"/></a>"
      ]
    },
    {
      "cell_type": "code",
      "execution_count": null,
      "metadata": {
        "colab": {
          "base_uri": "https://localhost:8080/"
        },
        "id": "q2gg7bA3a3bp",
        "outputId": "c34ad5c6-7cc7-44e2-d899-aecac2eedbfe"
      },
      "outputs": [
        {
          "name": "stdout",
          "output_type": "stream",
          "text": [
            "Drive already mounted at /content/drive; to attempt to forcibly remount, call drive.mount(\"/content/drive\", force_remount=True).\n"
          ]
        }
      ],
      "source": [
        "from google.colab import drive\n",
        "drive.mount('/content/drive')"
      ]
    },
    {
      "cell_type": "code",
      "execution_count": null,
      "metadata": {
        "id": "qTeLQ8HqbBoy"
      },
      "outputs": [],
      "source": [
        "import pandas as pd\n",
        "import numpy as np\n",
        "import matplotlib.pyplot as plt\n",
        "import seaborn as sns\n",
        "import warnings\n",
        "warnings.filterwarnings('ignore')"
      ]
    },
    {
      "cell_type": "code",
      "execution_count": null,
      "metadata": {
        "colab": {
          "base_uri": "https://localhost:8080/",
          "height": 424
        },
        "id": "EUJiPMtPbHVV",
        "outputId": "97248788-a6e9-4f42-c0e7-dfb3b5378d24"
      },
      "outputs": [
        {
          "data": {
            "text/html": [
              "\n",
              "  <div id=\"df-cae53e3a-969d-48f9-9559-681c4cc47a31\">\n",
              "    <div class=\"colab-df-container\">\n",
              "      <div>\n",
              "<style scoped>\n",
              "    .dataframe tbody tr th:only-of-type {\n",
              "        vertical-align: middle;\n",
              "    }\n",
              "\n",
              "    .dataframe tbody tr th {\n",
              "        vertical-align: top;\n",
              "    }\n",
              "\n",
              "    .dataframe thead th {\n",
              "        text-align: right;\n",
              "    }\n",
              "</style>\n",
              "<table border=\"1\" class=\"dataframe\">\n",
              "  <thead>\n",
              "    <tr style=\"text-align: right;\">\n",
              "      <th></th>\n",
              "      <th>Airline</th>\n",
              "      <th>Date_of_Journey</th>\n",
              "      <th>Source</th>\n",
              "      <th>Destination</th>\n",
              "      <th>Route</th>\n",
              "      <th>Dep_Time</th>\n",
              "      <th>Arrival_Time</th>\n",
              "      <th>Duration</th>\n",
              "      <th>Total_Stops</th>\n",
              "      <th>Additional_Info</th>\n",
              "      <th>Price</th>\n",
              "    </tr>\n",
              "  </thead>\n",
              "  <tbody>\n",
              "    <tr>\n",
              "      <th>0</th>\n",
              "      <td>IndiGo</td>\n",
              "      <td>24/03/2019</td>\n",
              "      <td>Banglore</td>\n",
              "      <td>New Delhi</td>\n",
              "      <td>BLR → DEL</td>\n",
              "      <td>22:20</td>\n",
              "      <td>01:10 22 Mar</td>\n",
              "      <td>2h 50m</td>\n",
              "      <td>non-stop</td>\n",
              "      <td>No info</td>\n",
              "      <td>3897</td>\n",
              "    </tr>\n",
              "    <tr>\n",
              "      <th>1</th>\n",
              "      <td>Air India</td>\n",
              "      <td>1/05/2019</td>\n",
              "      <td>Kolkata</td>\n",
              "      <td>Banglore</td>\n",
              "      <td>CCU → IXR → BBI → BLR</td>\n",
              "      <td>05:50</td>\n",
              "      <td>13:15</td>\n",
              "      <td>7h 25m</td>\n",
              "      <td>2 stops</td>\n",
              "      <td>No info</td>\n",
              "      <td>7662</td>\n",
              "    </tr>\n",
              "    <tr>\n",
              "      <th>2</th>\n",
              "      <td>Jet Airways</td>\n",
              "      <td>9/06/2019</td>\n",
              "      <td>Delhi</td>\n",
              "      <td>Cochin</td>\n",
              "      <td>DEL → LKO → BOM → COK</td>\n",
              "      <td>09:25</td>\n",
              "      <td>04:25 10 Jun</td>\n",
              "      <td>19h</td>\n",
              "      <td>2 stops</td>\n",
              "      <td>No info</td>\n",
              "      <td>13882</td>\n",
              "    </tr>\n",
              "    <tr>\n",
              "      <th>3</th>\n",
              "      <td>IndiGo</td>\n",
              "      <td>12/05/2019</td>\n",
              "      <td>Kolkata</td>\n",
              "      <td>Banglore</td>\n",
              "      <td>CCU → NAG → BLR</td>\n",
              "      <td>18:05</td>\n",
              "      <td>23:30</td>\n",
              "      <td>5h 25m</td>\n",
              "      <td>1 stop</td>\n",
              "      <td>No info</td>\n",
              "      <td>6218</td>\n",
              "    </tr>\n",
              "    <tr>\n",
              "      <th>4</th>\n",
              "      <td>IndiGo</td>\n",
              "      <td>01/03/2019</td>\n",
              "      <td>Banglore</td>\n",
              "      <td>New Delhi</td>\n",
              "      <td>BLR → NAG → DEL</td>\n",
              "      <td>16:50</td>\n",
              "      <td>21:35</td>\n",
              "      <td>4h 45m</td>\n",
              "      <td>1 stop</td>\n",
              "      <td>No info</td>\n",
              "      <td>13302</td>\n",
              "    </tr>\n",
              "    <tr>\n",
              "      <th>...</th>\n",
              "      <td>...</td>\n",
              "      <td>...</td>\n",
              "      <td>...</td>\n",
              "      <td>...</td>\n",
              "      <td>...</td>\n",
              "      <td>...</td>\n",
              "      <td>...</td>\n",
              "      <td>...</td>\n",
              "      <td>...</td>\n",
              "      <td>...</td>\n",
              "      <td>...</td>\n",
              "    </tr>\n",
              "    <tr>\n",
              "      <th>10678</th>\n",
              "      <td>Air Asia</td>\n",
              "      <td>9/04/2019</td>\n",
              "      <td>Kolkata</td>\n",
              "      <td>Banglore</td>\n",
              "      <td>CCU → BLR</td>\n",
              "      <td>19:55</td>\n",
              "      <td>22:25</td>\n",
              "      <td>2h 30m</td>\n",
              "      <td>non-stop</td>\n",
              "      <td>No info</td>\n",
              "      <td>4107</td>\n",
              "    </tr>\n",
              "    <tr>\n",
              "      <th>10679</th>\n",
              "      <td>Air India</td>\n",
              "      <td>27/04/2019</td>\n",
              "      <td>Kolkata</td>\n",
              "      <td>Banglore</td>\n",
              "      <td>CCU → BLR</td>\n",
              "      <td>20:45</td>\n",
              "      <td>23:20</td>\n",
              "      <td>2h 35m</td>\n",
              "      <td>non-stop</td>\n",
              "      <td>No info</td>\n",
              "      <td>4145</td>\n",
              "    </tr>\n",
              "    <tr>\n",
              "      <th>10680</th>\n",
              "      <td>Jet Airways</td>\n",
              "      <td>27/04/2019</td>\n",
              "      <td>Banglore</td>\n",
              "      <td>Delhi</td>\n",
              "      <td>BLR → DEL</td>\n",
              "      <td>08:20</td>\n",
              "      <td>11:20</td>\n",
              "      <td>3h</td>\n",
              "      <td>non-stop</td>\n",
              "      <td>No info</td>\n",
              "      <td>7229</td>\n",
              "    </tr>\n",
              "    <tr>\n",
              "      <th>10681</th>\n",
              "      <td>Vistara</td>\n",
              "      <td>01/03/2019</td>\n",
              "      <td>Banglore</td>\n",
              "      <td>New Delhi</td>\n",
              "      <td>BLR → DEL</td>\n",
              "      <td>11:30</td>\n",
              "      <td>14:10</td>\n",
              "      <td>2h 40m</td>\n",
              "      <td>non-stop</td>\n",
              "      <td>No info</td>\n",
              "      <td>12648</td>\n",
              "    </tr>\n",
              "    <tr>\n",
              "      <th>10682</th>\n",
              "      <td>Air India</td>\n",
              "      <td>9/05/2019</td>\n",
              "      <td>Delhi</td>\n",
              "      <td>Cochin</td>\n",
              "      <td>DEL → GOI → BOM → COK</td>\n",
              "      <td>10:55</td>\n",
              "      <td>19:15</td>\n",
              "      <td>8h 20m</td>\n",
              "      <td>2 stops</td>\n",
              "      <td>No info</td>\n",
              "      <td>11753</td>\n",
              "    </tr>\n",
              "  </tbody>\n",
              "</table>\n",
              "<p>10683 rows × 11 columns</p>\n",
              "</div>\n",
              "      <button class=\"colab-df-convert\" onclick=\"convertToInteractive('df-cae53e3a-969d-48f9-9559-681c4cc47a31')\"\n",
              "              title=\"Convert this dataframe to an interactive table.\"\n",
              "              style=\"display:none;\">\n",
              "        \n",
              "  <svg xmlns=\"http://www.w3.org/2000/svg\" height=\"24px\"viewBox=\"0 0 24 24\"\n",
              "       width=\"24px\">\n",
              "    <path d=\"M0 0h24v24H0V0z\" fill=\"none\"/>\n",
              "    <path d=\"M18.56 5.44l.94 2.06.94-2.06 2.06-.94-2.06-.94-.94-2.06-.94 2.06-2.06.94zm-11 1L8.5 8.5l.94-2.06 2.06-.94-2.06-.94L8.5 2.5l-.94 2.06-2.06.94zm10 10l.94 2.06.94-2.06 2.06-.94-2.06-.94-.94-2.06-.94 2.06-2.06.94z\"/><path d=\"M17.41 7.96l-1.37-1.37c-.4-.4-.92-.59-1.43-.59-.52 0-1.04.2-1.43.59L10.3 9.45l-7.72 7.72c-.78.78-.78 2.05 0 2.83L4 21.41c.39.39.9.59 1.41.59.51 0 1.02-.2 1.41-.59l7.78-7.78 2.81-2.81c.8-.78.8-2.07 0-2.86zM5.41 20L4 18.59l7.72-7.72 1.47 1.35L5.41 20z\"/>\n",
              "  </svg>\n",
              "      </button>\n",
              "      \n",
              "  <style>\n",
              "    .colab-df-container {\n",
              "      display:flex;\n",
              "      flex-wrap:wrap;\n",
              "      gap: 12px;\n",
              "    }\n",
              "\n",
              "    .colab-df-convert {\n",
              "      background-color: #E8F0FE;\n",
              "      border: none;\n",
              "      border-radius: 50%;\n",
              "      cursor: pointer;\n",
              "      display: none;\n",
              "      fill: #1967D2;\n",
              "      height: 32px;\n",
              "      padding: 0 0 0 0;\n",
              "      width: 32px;\n",
              "    }\n",
              "\n",
              "    .colab-df-convert:hover {\n",
              "      background-color: #E2EBFA;\n",
              "      box-shadow: 0px 1px 2px rgba(60, 64, 67, 0.3), 0px 1px 3px 1px rgba(60, 64, 67, 0.15);\n",
              "      fill: #174EA6;\n",
              "    }\n",
              "\n",
              "    [theme=dark] .colab-df-convert {\n",
              "      background-color: #3B4455;\n",
              "      fill: #D2E3FC;\n",
              "    }\n",
              "\n",
              "    [theme=dark] .colab-df-convert:hover {\n",
              "      background-color: #434B5C;\n",
              "      box-shadow: 0px 1px 3px 1px rgba(0, 0, 0, 0.15);\n",
              "      filter: drop-shadow(0px 1px 2px rgba(0, 0, 0, 0.3));\n",
              "      fill: #FFFFFF;\n",
              "    }\n",
              "  </style>\n",
              "\n",
              "      <script>\n",
              "        const buttonEl =\n",
              "          document.querySelector('#df-cae53e3a-969d-48f9-9559-681c4cc47a31 button.colab-df-convert');\n",
              "        buttonEl.style.display =\n",
              "          google.colab.kernel.accessAllowed ? 'block' : 'none';\n",
              "\n",
              "        async function convertToInteractive(key) {\n",
              "          const element = document.querySelector('#df-cae53e3a-969d-48f9-9559-681c4cc47a31');\n",
              "          const dataTable =\n",
              "            await google.colab.kernel.invokeFunction('convertToInteractive',\n",
              "                                                     [key], {});\n",
              "          if (!dataTable) return;\n",
              "\n",
              "          const docLinkHtml = 'Like what you see? Visit the ' +\n",
              "            '<a target=\"_blank\" href=https://colab.research.google.com/notebooks/data_table.ipynb>data table notebook</a>'\n",
              "            + ' to learn more about interactive tables.';\n",
              "          element.innerHTML = '';\n",
              "          dataTable['output_type'] = 'display_data';\n",
              "          await google.colab.output.renderOutput(dataTable, element);\n",
              "          const docLink = document.createElement('div');\n",
              "          docLink.innerHTML = docLinkHtml;\n",
              "          element.appendChild(docLink);\n",
              "        }\n",
              "      </script>\n",
              "    </div>\n",
              "  </div>\n",
              "  "
            ],
            "text/plain": [
              "           Airline Date_of_Journey    Source Destination  \\\n",
              "0           IndiGo      24/03/2019  Banglore   New Delhi   \n",
              "1        Air India       1/05/2019   Kolkata    Banglore   \n",
              "2      Jet Airways       9/06/2019     Delhi      Cochin   \n",
              "3           IndiGo      12/05/2019   Kolkata    Banglore   \n",
              "4           IndiGo      01/03/2019  Banglore   New Delhi   \n",
              "...            ...             ...       ...         ...   \n",
              "10678     Air Asia       9/04/2019   Kolkata    Banglore   \n",
              "10679    Air India      27/04/2019   Kolkata    Banglore   \n",
              "10680  Jet Airways      27/04/2019  Banglore       Delhi   \n",
              "10681      Vistara      01/03/2019  Banglore   New Delhi   \n",
              "10682    Air India       9/05/2019     Delhi      Cochin   \n",
              "\n",
              "                       Route Dep_Time  Arrival_Time Duration Total_Stops  \\\n",
              "0                  BLR → DEL    22:20  01:10 22 Mar   2h 50m    non-stop   \n",
              "1      CCU → IXR → BBI → BLR    05:50         13:15   7h 25m     2 stops   \n",
              "2      DEL → LKO → BOM → COK    09:25  04:25 10 Jun      19h     2 stops   \n",
              "3            CCU → NAG → BLR    18:05         23:30   5h 25m      1 stop   \n",
              "4            BLR → NAG → DEL    16:50         21:35   4h 45m      1 stop   \n",
              "...                      ...      ...           ...      ...         ...   \n",
              "10678              CCU → BLR    19:55         22:25   2h 30m    non-stop   \n",
              "10679              CCU → BLR    20:45         23:20   2h 35m    non-stop   \n",
              "10680              BLR → DEL    08:20         11:20       3h    non-stop   \n",
              "10681              BLR → DEL    11:30         14:10   2h 40m    non-stop   \n",
              "10682  DEL → GOI → BOM → COK    10:55         19:15   8h 20m     2 stops   \n",
              "\n",
              "      Additional_Info  Price  \n",
              "0             No info   3897  \n",
              "1             No info   7662  \n",
              "2             No info  13882  \n",
              "3             No info   6218  \n",
              "4             No info  13302  \n",
              "...               ...    ...  \n",
              "10678         No info   4107  \n",
              "10679         No info   4145  \n",
              "10680         No info   7229  \n",
              "10681         No info  12648  \n",
              "10682         No info  11753  \n",
              "\n",
              "[10683 rows x 11 columns]"
            ]
          },
          "execution_count": 3,
          "metadata": {},
          "output_type": "execute_result"
        }
      ],
      "source": [
        "bp=pd.read_csv('/content/drive/MyDrive/Bonus_project-airline.csv')\n",
        "bp"
      ]
    },
    {
      "cell_type": "markdown",
      "metadata": {
        "id": "0iX5t2c0Fuuv"
      },
      "source": [
        "# Preprocessing"
      ]
    },
    {
      "cell_type": "markdown",
      "metadata": {
        "id": "bYXkhHQ6MZQR"
      },
      "source": [
        "## Basic"
      ]
    },
    {
      "cell_type": "code",
      "execution_count": null,
      "metadata": {
        "colab": {
          "base_uri": "https://localhost:8080/"
        },
        "id": "6hW8v7yOUSW6",
        "outputId": "f300d1a1-ebe8-4373-90e6-9ac5f675c6d3"
      },
      "outputs": [
        {
          "name": "stdout",
          "output_type": "stream",
          "text": [
            "<class 'pandas.core.frame.DataFrame'>\n",
            "RangeIndex: 10683 entries, 0 to 10682\n",
            "Data columns (total 11 columns):\n",
            " #   Column           Non-Null Count  Dtype \n",
            "---  ------           --------------  ----- \n",
            " 0   Airline          10683 non-null  object\n",
            " 1   Date_of_Journey  10683 non-null  object\n",
            " 2   Source           10683 non-null  object\n",
            " 3   Destination      10683 non-null  object\n",
            " 4   Route            10682 non-null  object\n",
            " 5   Dep_Time         10683 non-null  object\n",
            " 6   Arrival_Time     10683 non-null  object\n",
            " 7   Duration         10683 non-null  object\n",
            " 8   Total_Stops      10682 non-null  object\n",
            " 9   Additional_Info  10683 non-null  object\n",
            " 10  Price            10683 non-null  int64 \n",
            "dtypes: int64(1), object(10)\n",
            "memory usage: 918.2+ KB\n"
          ]
        }
      ],
      "source": [
        "bp.info()"
      ]
    },
    {
      "cell_type": "code",
      "execution_count": null,
      "metadata": {
        "colab": {
          "base_uri": "https://localhost:8080/"
        },
        "id": "R5O7hjmtu3OP",
        "outputId": "3b9d9f0d-a4fb-4d3b-dfca-6957266eb3c0"
      },
      "outputs": [
        {
          "data": {
            "text/plain": [
              "Airline            0\n",
              "Date_of_Journey    0\n",
              "Source             0\n",
              "Destination        0\n",
              "Route              1\n",
              "Dep_Time           0\n",
              "Arrival_Time       0\n",
              "Duration           0\n",
              "Total_Stops        1\n",
              "Additional_Info    0\n",
              "Price              0\n",
              "dtype: int64"
            ]
          },
          "execution_count": 5,
          "metadata": {},
          "output_type": "execute_result"
        }
      ],
      "source": [
        "bp.isnull().sum()"
      ]
    },
    {
      "cell_type": "code",
      "execution_count": null,
      "metadata": {
        "id": "J2VTwlNivZqI"
      },
      "outputs": [],
      "source": [
        "bp=bp.dropna()\n",
        "bp=bp.reset_index()"
      ]
    },
    {
      "cell_type": "code",
      "execution_count": null,
      "metadata": {
        "id": "GdKjm0W6HaYY"
      },
      "outputs": [],
      "source": [
        "bp=bp.drop(['index'],axis=1)"
      ]
    },
    {
      "cell_type": "markdown",
      "metadata": {
        "id": "n4lgsydbUH31"
      },
      "source": [
        "## Adding a column Weekday as in reality prices are higher during weekends so thought of adding one"
      ]
    },
    {
      "cell_type": "code",
      "execution_count": null,
      "metadata": {
        "id": "AdtuiuhCsrkX"
      },
      "outputs": [],
      "source": [
        "from datetime import date\n",
        "weekday=[]\n",
        "for i in bp['Date_of_Journey']:\n",
        "  a = i.split(\"/\")\n",
        "  d  =int(a[0])\n",
        "  m = int(a[1])\n",
        "  y = int(a[2])\n",
        "  weekday.append(date(y,m,d).weekday())\n",
        "bp['Weekday']=weekday"
      ]
    },
    {
      "cell_type": "markdown",
      "metadata": {
        "id": "5-qRshcAUfO-"
      },
      "source": [
        "## Converting Date of Journey into 2 separate columns of day and month( year is same for all)"
      ]
    },
    {
      "cell_type": "code",
      "execution_count": null,
      "metadata": {
        "id": "J-60tQJro-wn"
      },
      "outputs": [],
      "source": [
        "date=[]\n",
        "month=[]\n",
        "for i in bp['Date_of_Journey']:\n",
        "  a=i.split('/')\n",
        "  if (a[0][0]=='0'):\n",
        "    date.append(int(a[0][1]))\n",
        "  else:\n",
        "    date.append(int(a[0]))\n",
        "  month.append(int(a[1][1]))\n",
        "bp['Date']=date\n",
        "bp['Month']=month\n",
        "bp=bp.drop(['Date_of_Journey'],axis=1)"
      ]
    },
    {
      "cell_type": "code",
      "execution_count": null,
      "metadata": {
        "colab": {
          "base_uri": "https://localhost:8080/"
        },
        "id": "_mS3qnBnsSwM",
        "outputId": "3a5b1702-174e-4be1-ad34-d8e356325d14"
      },
      "outputs": [
        {
          "data": {
            "text/html": [
              "\n",
              "  <div id=\"df-966b49e3-f8ff-4513-924a-b37acd9386b2\">\n",
              "    <div class=\"colab-df-container\">\n",
              "      <div>\n",
              "<style scoped>\n",
              "    .dataframe tbody tr th:only-of-type {\n",
              "        vertical-align: middle;\n",
              "    }\n",
              "\n",
              "    .dataframe tbody tr th {\n",
              "        vertical-align: top;\n",
              "    }\n",
              "\n",
              "    .dataframe thead th {\n",
              "        text-align: right;\n",
              "    }\n",
              "</style>\n",
              "<table border=\"1\" class=\"dataframe\">\n",
              "  <thead>\n",
              "    <tr style=\"text-align: right;\">\n",
              "      <th></th>\n",
              "      <th>Weekday</th>\n",
              "      <th>Date</th>\n",
              "      <th>Month</th>\n",
              "      <th>Airline</th>\n",
              "      <th>Source</th>\n",
              "      <th>Destination</th>\n",
              "      <th>Route</th>\n",
              "      <th>Dep_Time</th>\n",
              "      <th>Arrival_Time</th>\n",
              "      <th>Duration</th>\n",
              "      <th>Total_Stops</th>\n",
              "      <th>Additional_Info</th>\n",
              "      <th>Price</th>\n",
              "    </tr>\n",
              "  </thead>\n",
              "  <tbody>\n",
              "    <tr>\n",
              "      <th>0</th>\n",
              "      <td>6</td>\n",
              "      <td>24</td>\n",
              "      <td>3</td>\n",
              "      <td>IndiGo</td>\n",
              "      <td>Banglore</td>\n",
              "      <td>New Delhi</td>\n",
              "      <td>BLR → DEL</td>\n",
              "      <td>22:20</td>\n",
              "      <td>01:10 22 Mar</td>\n",
              "      <td>2h 50m</td>\n",
              "      <td>non-stop</td>\n",
              "      <td>No info</td>\n",
              "      <td>3897</td>\n",
              "    </tr>\n",
              "    <tr>\n",
              "      <th>1</th>\n",
              "      <td>2</td>\n",
              "      <td>1</td>\n",
              "      <td>5</td>\n",
              "      <td>Air India</td>\n",
              "      <td>Kolkata</td>\n",
              "      <td>Banglore</td>\n",
              "      <td>CCU → IXR → BBI → BLR</td>\n",
              "      <td>05:50</td>\n",
              "      <td>13:15</td>\n",
              "      <td>7h 25m</td>\n",
              "      <td>2 stops</td>\n",
              "      <td>No info</td>\n",
              "      <td>7662</td>\n",
              "    </tr>\n",
              "    <tr>\n",
              "      <th>2</th>\n",
              "      <td>6</td>\n",
              "      <td>9</td>\n",
              "      <td>6</td>\n",
              "      <td>Jet Airways</td>\n",
              "      <td>Delhi</td>\n",
              "      <td>Cochin</td>\n",
              "      <td>DEL → LKO → BOM → COK</td>\n",
              "      <td>09:25</td>\n",
              "      <td>04:25 10 Jun</td>\n",
              "      <td>19h</td>\n",
              "      <td>2 stops</td>\n",
              "      <td>No info</td>\n",
              "      <td>13882</td>\n",
              "    </tr>\n",
              "    <tr>\n",
              "      <th>3</th>\n",
              "      <td>6</td>\n",
              "      <td>12</td>\n",
              "      <td>5</td>\n",
              "      <td>IndiGo</td>\n",
              "      <td>Kolkata</td>\n",
              "      <td>Banglore</td>\n",
              "      <td>CCU → NAG → BLR</td>\n",
              "      <td>18:05</td>\n",
              "      <td>23:30</td>\n",
              "      <td>5h 25m</td>\n",
              "      <td>1 stop</td>\n",
              "      <td>No info</td>\n",
              "      <td>6218</td>\n",
              "    </tr>\n",
              "    <tr>\n",
              "      <th>4</th>\n",
              "      <td>4</td>\n",
              "      <td>1</td>\n",
              "      <td>3</td>\n",
              "      <td>IndiGo</td>\n",
              "      <td>Banglore</td>\n",
              "      <td>New Delhi</td>\n",
              "      <td>BLR → NAG → DEL</td>\n",
              "      <td>16:50</td>\n",
              "      <td>21:35</td>\n",
              "      <td>4h 45m</td>\n",
              "      <td>1 stop</td>\n",
              "      <td>No info</td>\n",
              "      <td>13302</td>\n",
              "    </tr>\n",
              "    <tr>\n",
              "      <th>...</th>\n",
              "      <td>...</td>\n",
              "      <td>...</td>\n",
              "      <td>...</td>\n",
              "      <td>...</td>\n",
              "      <td>...</td>\n",
              "      <td>...</td>\n",
              "      <td>...</td>\n",
              "      <td>...</td>\n",
              "      <td>...</td>\n",
              "      <td>...</td>\n",
              "      <td>...</td>\n",
              "      <td>...</td>\n",
              "      <td>...</td>\n",
              "    </tr>\n",
              "    <tr>\n",
              "      <th>10677</th>\n",
              "      <td>1</td>\n",
              "      <td>9</td>\n",
              "      <td>4</td>\n",
              "      <td>Air Asia</td>\n",
              "      <td>Kolkata</td>\n",
              "      <td>Banglore</td>\n",
              "      <td>CCU → BLR</td>\n",
              "      <td>19:55</td>\n",
              "      <td>22:25</td>\n",
              "      <td>2h 30m</td>\n",
              "      <td>non-stop</td>\n",
              "      <td>No info</td>\n",
              "      <td>4107</td>\n",
              "    </tr>\n",
              "    <tr>\n",
              "      <th>10678</th>\n",
              "      <td>5</td>\n",
              "      <td>27</td>\n",
              "      <td>4</td>\n",
              "      <td>Air India</td>\n",
              "      <td>Kolkata</td>\n",
              "      <td>Banglore</td>\n",
              "      <td>CCU → BLR</td>\n",
              "      <td>20:45</td>\n",
              "      <td>23:20</td>\n",
              "      <td>2h 35m</td>\n",
              "      <td>non-stop</td>\n",
              "      <td>No info</td>\n",
              "      <td>4145</td>\n",
              "    </tr>\n",
              "    <tr>\n",
              "      <th>10679</th>\n",
              "      <td>5</td>\n",
              "      <td>27</td>\n",
              "      <td>4</td>\n",
              "      <td>Jet Airways</td>\n",
              "      <td>Banglore</td>\n",
              "      <td>Delhi</td>\n",
              "      <td>BLR → DEL</td>\n",
              "      <td>08:20</td>\n",
              "      <td>11:20</td>\n",
              "      <td>3h</td>\n",
              "      <td>non-stop</td>\n",
              "      <td>No info</td>\n",
              "      <td>7229</td>\n",
              "    </tr>\n",
              "    <tr>\n",
              "      <th>10680</th>\n",
              "      <td>4</td>\n",
              "      <td>1</td>\n",
              "      <td>3</td>\n",
              "      <td>Vistara</td>\n",
              "      <td>Banglore</td>\n",
              "      <td>New Delhi</td>\n",
              "      <td>BLR → DEL</td>\n",
              "      <td>11:30</td>\n",
              "      <td>14:10</td>\n",
              "      <td>2h 40m</td>\n",
              "      <td>non-stop</td>\n",
              "      <td>No info</td>\n",
              "      <td>12648</td>\n",
              "    </tr>\n",
              "    <tr>\n",
              "      <th>10681</th>\n",
              "      <td>3</td>\n",
              "      <td>9</td>\n",
              "      <td>5</td>\n",
              "      <td>Air India</td>\n",
              "      <td>Delhi</td>\n",
              "      <td>Cochin</td>\n",
              "      <td>DEL → GOI → BOM → COK</td>\n",
              "      <td>10:55</td>\n",
              "      <td>19:15</td>\n",
              "      <td>8h 20m</td>\n",
              "      <td>2 stops</td>\n",
              "      <td>No info</td>\n",
              "      <td>11753</td>\n",
              "    </tr>\n",
              "  </tbody>\n",
              "</table>\n",
              "<p>10682 rows × 13 columns</p>\n",
              "</div>\n",
              "      <button class=\"colab-df-convert\" onclick=\"convertToInteractive('df-966b49e3-f8ff-4513-924a-b37acd9386b2')\"\n",
              "              title=\"Convert this dataframe to an interactive table.\"\n",
              "              style=\"display:none;\">\n",
              "        \n",
              "  <svg xmlns=\"http://www.w3.org/2000/svg\" height=\"24px\"viewBox=\"0 0 24 24\"\n",
              "       width=\"24px\">\n",
              "    <path d=\"M0 0h24v24H0V0z\" fill=\"none\"/>\n",
              "    <path d=\"M18.56 5.44l.94 2.06.94-2.06 2.06-.94-2.06-.94-.94-2.06-.94 2.06-2.06.94zm-11 1L8.5 8.5l.94-2.06 2.06-.94-2.06-.94L8.5 2.5l-.94 2.06-2.06.94zm10 10l.94 2.06.94-2.06 2.06-.94-2.06-.94-.94-2.06-.94 2.06-2.06.94z\"/><path d=\"M17.41 7.96l-1.37-1.37c-.4-.4-.92-.59-1.43-.59-.52 0-1.04.2-1.43.59L10.3 9.45l-7.72 7.72c-.78.78-.78 2.05 0 2.83L4 21.41c.39.39.9.59 1.41.59.51 0 1.02-.2 1.41-.59l7.78-7.78 2.81-2.81c.8-.78.8-2.07 0-2.86zM5.41 20L4 18.59l7.72-7.72 1.47 1.35L5.41 20z\"/>\n",
              "  </svg>\n",
              "      </button>\n",
              "      \n",
              "  <style>\n",
              "    .colab-df-container {\n",
              "      display:flex;\n",
              "      flex-wrap:wrap;\n",
              "      gap: 12px;\n",
              "    }\n",
              "\n",
              "    .colab-df-convert {\n",
              "      background-color: #E8F0FE;\n",
              "      border: none;\n",
              "      border-radius: 50%;\n",
              "      cursor: pointer;\n",
              "      display: none;\n",
              "      fill: #1967D2;\n",
              "      height: 32px;\n",
              "      padding: 0 0 0 0;\n",
              "      width: 32px;\n",
              "    }\n",
              "\n",
              "    .colab-df-convert:hover {\n",
              "      background-color: #E2EBFA;\n",
              "      box-shadow: 0px 1px 2px rgba(60, 64, 67, 0.3), 0px 1px 3px 1px rgba(60, 64, 67, 0.15);\n",
              "      fill: #174EA6;\n",
              "    }\n",
              "\n",
              "    [theme=dark] .colab-df-convert {\n",
              "      background-color: #3B4455;\n",
              "      fill: #D2E3FC;\n",
              "    }\n",
              "\n",
              "    [theme=dark] .colab-df-convert:hover {\n",
              "      background-color: #434B5C;\n",
              "      box-shadow: 0px 1px 3px 1px rgba(0, 0, 0, 0.15);\n",
              "      filter: drop-shadow(0px 1px 2px rgba(0, 0, 0, 0.3));\n",
              "      fill: #FFFFFF;\n",
              "    }\n",
              "  </style>\n",
              "\n",
              "      <script>\n",
              "        const buttonEl =\n",
              "          document.querySelector('#df-966b49e3-f8ff-4513-924a-b37acd9386b2 button.colab-df-convert');\n",
              "        buttonEl.style.display =\n",
              "          google.colab.kernel.accessAllowed ? 'block' : 'none';\n",
              "\n",
              "        async function convertToInteractive(key) {\n",
              "          const element = document.querySelector('#df-966b49e3-f8ff-4513-924a-b37acd9386b2');\n",
              "          const dataTable =\n",
              "            await google.colab.kernel.invokeFunction('convertToInteractive',\n",
              "                                                     [key], {});\n",
              "          if (!dataTable) return;\n",
              "\n",
              "          const docLinkHtml = 'Like what you see? Visit the ' +\n",
              "            '<a target=\"_blank\" href=https://colab.research.google.com/notebooks/data_table.ipynb>data table notebook</a>'\n",
              "            + ' to learn more about interactive tables.';\n",
              "          element.innerHTML = '';\n",
              "          dataTable['output_type'] = 'display_data';\n",
              "          await google.colab.output.renderOutput(dataTable, element);\n",
              "          const docLink = document.createElement('div');\n",
              "          docLink.innerHTML = docLinkHtml;\n",
              "          element.appendChild(docLink);\n",
              "        }\n",
              "      </script>\n",
              "    </div>\n",
              "  </div>\n",
              "  "
            ],
            "text/plain": [
              "       Weekday  Date  Month      Airline    Source Destination  \\\n",
              "0            6    24      3       IndiGo  Banglore   New Delhi   \n",
              "1            2     1      5    Air India   Kolkata    Banglore   \n",
              "2            6     9      6  Jet Airways     Delhi      Cochin   \n",
              "3            6    12      5       IndiGo   Kolkata    Banglore   \n",
              "4            4     1      3       IndiGo  Banglore   New Delhi   \n",
              "...        ...   ...    ...          ...       ...         ...   \n",
              "10677        1     9      4     Air Asia   Kolkata    Banglore   \n",
              "10678        5    27      4    Air India   Kolkata    Banglore   \n",
              "10679        5    27      4  Jet Airways  Banglore       Delhi   \n",
              "10680        4     1      3      Vistara  Banglore   New Delhi   \n",
              "10681        3     9      5    Air India     Delhi      Cochin   \n",
              "\n",
              "                       Route Dep_Time  Arrival_Time Duration Total_Stops  \\\n",
              "0                  BLR → DEL    22:20  01:10 22 Mar   2h 50m    non-stop   \n",
              "1      CCU → IXR → BBI → BLR    05:50         13:15   7h 25m     2 stops   \n",
              "2      DEL → LKO → BOM → COK    09:25  04:25 10 Jun      19h     2 stops   \n",
              "3            CCU → NAG → BLR    18:05         23:30   5h 25m      1 stop   \n",
              "4            BLR → NAG → DEL    16:50         21:35   4h 45m      1 stop   \n",
              "...                      ...      ...           ...      ...         ...   \n",
              "10677              CCU → BLR    19:55         22:25   2h 30m    non-stop   \n",
              "10678              CCU → BLR    20:45         23:20   2h 35m    non-stop   \n",
              "10679              BLR → DEL    08:20         11:20       3h    non-stop   \n",
              "10680              BLR → DEL    11:30         14:10   2h 40m    non-stop   \n",
              "10681  DEL → GOI → BOM → COK    10:55         19:15   8h 20m     2 stops   \n",
              "\n",
              "      Additional_Info  Price  \n",
              "0             No info   3897  \n",
              "1             No info   7662  \n",
              "2             No info  13882  \n",
              "3             No info   6218  \n",
              "4             No info  13302  \n",
              "...               ...    ...  \n",
              "10677         No info   4107  \n",
              "10678         No info   4145  \n",
              "10679         No info   7229  \n",
              "10680         No info  12648  \n",
              "10681         No info  11753  \n",
              "\n",
              "[10682 rows x 13 columns]"
            ]
          },
          "execution_count": 10,
          "metadata": {},
          "output_type": "execute_result"
        }
      ],
      "source": [
        "cols=bp.columns.tolist()\n",
        "cols=cols[-3:]+cols[:-3]\n",
        "bp=bp[cols]\n",
        "bp"
      ]
    },
    {
      "cell_type": "markdown",
      "metadata": {
        "id": "OH33Lg0TToT6"
      },
      "source": [
        "## Converting Depature time and Arrival time in the form of military hours 17:30 is 1730 hours =1730 and duration to total time in minutes"
      ]
    },
    {
      "cell_type": "code",
      "execution_count": null,
      "metadata": {
        "colab": {
          "base_uri": "https://localhost:8080/"
        },
        "id": "arn6yZA4IOdv",
        "outputId": "0f4c1ea0-7c39-4a80-efb4-1efb7ff793c1"
      },
      "outputs": [
        {
          "data": {
            "text/plain": [
              "0         170\n",
              "1         445\n",
              "2        1140\n",
              "3         325\n",
              "4         285\n",
              "         ... \n",
              "10677     150\n",
              "10678     155\n",
              "10679     180\n",
              "10680     160\n",
              "10681     500\n",
              "Name: Duration, Length: 10682, dtype: int64"
            ]
          },
          "execution_count": 11,
          "metadata": {},
          "output_type": "execute_result"
        }
      ],
      "source": [
        "for i in range(len(bp['Dep_Time'])):\n",
        "    s=bp['Dep_Time'][i]\n",
        "    s=s[0]+s[1]+s[3]+s[4]\n",
        "    bp['Dep_Time'][i]=int(s)\n",
        "\n",
        "for i in range(len(bp['Arrival_Time'])):\n",
        "    s=bp['Arrival_Time'][i]\n",
        "    s=s[0]+s[1]+s[3]+s[4]\n",
        "    bp['Arrival_Time'][i]=int(s)\n",
        "\n",
        "bp['Arrival_Time']=bp['Arrival_Time'].astype(str).astype(int)\n",
        "bp['Dep_Time']=bp['Dep_Time'].astype(str).astype(int)\n",
        "\n",
        "\n",
        "\n",
        "bp['Duration']=bp['Duration'].str.replace(\"h\",'*60').str.replace(' ','+').str.replace('m','*1').apply(eval)\n",
        "bp['Duration']"
      ]
    },
    {
      "cell_type": "markdown",
      "metadata": {
        "id": "yAEmkI-pVhKZ"
      },
      "source": [
        "## Label Encoding Total Stops,Airline,Source,Destination,Additional Info and Route"
      ]
    },
    {
      "cell_type": "markdown",
      "metadata": {
        "id": "6Z8IA-FNNtW4"
      },
      "source": [
        "### Total stops"
      ]
    },
    {
      "cell_type": "code",
      "execution_count": null,
      "metadata": {
        "colab": {
          "base_uri": "https://localhost:8080/"
        },
        "id": "1vrES1KoWzJ3",
        "outputId": "2cc2e9c2-3ff1-4be9-dff7-c9d54819bb25"
      },
      "outputs": [
        {
          "data": {
            "text/plain": [
              "1 stop      5625\n",
              "non-stop    3491\n",
              "2 stops     1520\n",
              "3 stops       45\n",
              "4 stops        1\n",
              "Name: Total_Stops, dtype: int64"
            ]
          },
          "execution_count": 12,
          "metadata": {},
          "output_type": "execute_result"
        }
      ],
      "source": [
        "bp['Total_Stops'].value_counts()"
      ]
    },
    {
      "cell_type": "code",
      "execution_count": null,
      "metadata": {
        "id": "Ch25hjLjixtk"
      },
      "outputs": [],
      "source": [
        "bp['Total_Stops']=bp['Total_Stops'].replace([ 'non-stop','1 stop','2 stops','3 stops','4 stops'], [int(0),int(1),int(2),int(3),int(3)])\n",
        "bp['Total_Stops']=bp['Total_Stops'].astype(str).astype(int)"
      ]
    },
    {
      "cell_type": "markdown",
      "metadata": {
        "id": "t_-8efxANwY8"
      },
      "source": [
        "### Rest"
      ]
    },
    {
      "cell_type": "code",
      "execution_count": null,
      "metadata": {
        "id": "YjHP8rQv7HN1"
      },
      "outputs": [],
      "source": [
        "from sklearn import preprocessing\n",
        "le = preprocessing.LabelEncoder()\n",
        "bp['Airline']=le.fit_transform(bp['Airline'])\n",
        "bp['Source']=le.fit_transform(bp['Source'])\n",
        "bp['Destination']=le.fit_transform(bp['Airline'])\n",
        "bp['Additional_Info']=le.fit_transform(bp['Additional_Info'])\n",
        "bp['Route']=le.fit_transform(bp['Route'])"
      ]
    },
    {
      "cell_type": "code",
      "execution_count": null,
      "metadata": {
        "colab": {
          "base_uri": "https://localhost:8080/",
          "height": 424
        },
        "id": "rs-jXkq5c2UZ",
        "outputId": "c26b6da3-a53a-498d-9568-1eb41c766d51"
      },
      "outputs": [
        {
          "data": {
            "text/html": [
              "\n",
              "  <div id=\"df-5bf64c32-f7dd-4c44-8b4b-0c085a9c4c6e\">\n",
              "    <div class=\"colab-df-container\">\n",
              "      <div>\n",
              "<style scoped>\n",
              "    .dataframe tbody tr th:only-of-type {\n",
              "        vertical-align: middle;\n",
              "    }\n",
              "\n",
              "    .dataframe tbody tr th {\n",
              "        vertical-align: top;\n",
              "    }\n",
              "\n",
              "    .dataframe thead th {\n",
              "        text-align: right;\n",
              "    }\n",
              "</style>\n",
              "<table border=\"1\" class=\"dataframe\">\n",
              "  <thead>\n",
              "    <tr style=\"text-align: right;\">\n",
              "      <th></th>\n",
              "      <th>Weekday</th>\n",
              "      <th>Date</th>\n",
              "      <th>Month</th>\n",
              "      <th>Airline</th>\n",
              "      <th>Source</th>\n",
              "      <th>Destination</th>\n",
              "      <th>Route</th>\n",
              "      <th>Dep_Time</th>\n",
              "      <th>Arrival_Time</th>\n",
              "      <th>Duration</th>\n",
              "      <th>Total_Stops</th>\n",
              "      <th>Additional_Info</th>\n",
              "      <th>Price</th>\n",
              "    </tr>\n",
              "  </thead>\n",
              "  <tbody>\n",
              "    <tr>\n",
              "      <th>0</th>\n",
              "      <td>6</td>\n",
              "      <td>24</td>\n",
              "      <td>3</td>\n",
              "      <td>3</td>\n",
              "      <td>0</td>\n",
              "      <td>3</td>\n",
              "      <td>18</td>\n",
              "      <td>2220</td>\n",
              "      <td>110</td>\n",
              "      <td>170</td>\n",
              "      <td>0</td>\n",
              "      <td>8</td>\n",
              "      <td>3897</td>\n",
              "    </tr>\n",
              "    <tr>\n",
              "      <th>1</th>\n",
              "      <td>2</td>\n",
              "      <td>1</td>\n",
              "      <td>5</td>\n",
              "      <td>1</td>\n",
              "      <td>3</td>\n",
              "      <td>1</td>\n",
              "      <td>84</td>\n",
              "      <td>550</td>\n",
              "      <td>1315</td>\n",
              "      <td>445</td>\n",
              "      <td>2</td>\n",
              "      <td>8</td>\n",
              "      <td>7662</td>\n",
              "    </tr>\n",
              "    <tr>\n",
              "      <th>2</th>\n",
              "      <td>6</td>\n",
              "      <td>9</td>\n",
              "      <td>6</td>\n",
              "      <td>4</td>\n",
              "      <td>2</td>\n",
              "      <td>4</td>\n",
              "      <td>118</td>\n",
              "      <td>925</td>\n",
              "      <td>425</td>\n",
              "      <td>1140</td>\n",
              "      <td>2</td>\n",
              "      <td>8</td>\n",
              "      <td>13882</td>\n",
              "    </tr>\n",
              "    <tr>\n",
              "      <th>3</th>\n",
              "      <td>6</td>\n",
              "      <td>12</td>\n",
              "      <td>5</td>\n",
              "      <td>3</td>\n",
              "      <td>3</td>\n",
              "      <td>3</td>\n",
              "      <td>91</td>\n",
              "      <td>1805</td>\n",
              "      <td>2330</td>\n",
              "      <td>325</td>\n",
              "      <td>1</td>\n",
              "      <td>8</td>\n",
              "      <td>6218</td>\n",
              "    </tr>\n",
              "    <tr>\n",
              "      <th>4</th>\n",
              "      <td>4</td>\n",
              "      <td>1</td>\n",
              "      <td>3</td>\n",
              "      <td>3</td>\n",
              "      <td>0</td>\n",
              "      <td>3</td>\n",
              "      <td>29</td>\n",
              "      <td>1650</td>\n",
              "      <td>2135</td>\n",
              "      <td>285</td>\n",
              "      <td>1</td>\n",
              "      <td>8</td>\n",
              "      <td>13302</td>\n",
              "    </tr>\n",
              "    <tr>\n",
              "      <th>...</th>\n",
              "      <td>...</td>\n",
              "      <td>...</td>\n",
              "      <td>...</td>\n",
              "      <td>...</td>\n",
              "      <td>...</td>\n",
              "      <td>...</td>\n",
              "      <td>...</td>\n",
              "      <td>...</td>\n",
              "      <td>...</td>\n",
              "      <td>...</td>\n",
              "      <td>...</td>\n",
              "      <td>...</td>\n",
              "      <td>...</td>\n",
              "    </tr>\n",
              "    <tr>\n",
              "      <th>10677</th>\n",
              "      <td>1</td>\n",
              "      <td>9</td>\n",
              "      <td>4</td>\n",
              "      <td>0</td>\n",
              "      <td>3</td>\n",
              "      <td>0</td>\n",
              "      <td>64</td>\n",
              "      <td>1955</td>\n",
              "      <td>2225</td>\n",
              "      <td>150</td>\n",
              "      <td>0</td>\n",
              "      <td>8</td>\n",
              "      <td>4107</td>\n",
              "    </tr>\n",
              "    <tr>\n",
              "      <th>10678</th>\n",
              "      <td>5</td>\n",
              "      <td>27</td>\n",
              "      <td>4</td>\n",
              "      <td>1</td>\n",
              "      <td>3</td>\n",
              "      <td>1</td>\n",
              "      <td>64</td>\n",
              "      <td>2045</td>\n",
              "      <td>2320</td>\n",
              "      <td>155</td>\n",
              "      <td>0</td>\n",
              "      <td>8</td>\n",
              "      <td>4145</td>\n",
              "    </tr>\n",
              "    <tr>\n",
              "      <th>10679</th>\n",
              "      <td>5</td>\n",
              "      <td>27</td>\n",
              "      <td>4</td>\n",
              "      <td>4</td>\n",
              "      <td>0</td>\n",
              "      <td>4</td>\n",
              "      <td>18</td>\n",
              "      <td>820</td>\n",
              "      <td>1120</td>\n",
              "      <td>180</td>\n",
              "      <td>0</td>\n",
              "      <td>8</td>\n",
              "      <td>7229</td>\n",
              "    </tr>\n",
              "    <tr>\n",
              "      <th>10680</th>\n",
              "      <td>4</td>\n",
              "      <td>1</td>\n",
              "      <td>3</td>\n",
              "      <td>10</td>\n",
              "      <td>0</td>\n",
              "      <td>10</td>\n",
              "      <td>18</td>\n",
              "      <td>1130</td>\n",
              "      <td>1410</td>\n",
              "      <td>160</td>\n",
              "      <td>0</td>\n",
              "      <td>8</td>\n",
              "      <td>12648</td>\n",
              "    </tr>\n",
              "    <tr>\n",
              "      <th>10681</th>\n",
              "      <td>3</td>\n",
              "      <td>9</td>\n",
              "      <td>5</td>\n",
              "      <td>1</td>\n",
              "      <td>2</td>\n",
              "      <td>1</td>\n",
              "      <td>108</td>\n",
              "      <td>1055</td>\n",
              "      <td>1915</td>\n",
              "      <td>500</td>\n",
              "      <td>2</td>\n",
              "      <td>8</td>\n",
              "      <td>11753</td>\n",
              "    </tr>\n",
              "  </tbody>\n",
              "</table>\n",
              "<p>10682 rows × 13 columns</p>\n",
              "</div>\n",
              "      <button class=\"colab-df-convert\" onclick=\"convertToInteractive('df-5bf64c32-f7dd-4c44-8b4b-0c085a9c4c6e')\"\n",
              "              title=\"Convert this dataframe to an interactive table.\"\n",
              "              style=\"display:none;\">\n",
              "        \n",
              "  <svg xmlns=\"http://www.w3.org/2000/svg\" height=\"24px\"viewBox=\"0 0 24 24\"\n",
              "       width=\"24px\">\n",
              "    <path d=\"M0 0h24v24H0V0z\" fill=\"none\"/>\n",
              "    <path d=\"M18.56 5.44l.94 2.06.94-2.06 2.06-.94-2.06-.94-.94-2.06-.94 2.06-2.06.94zm-11 1L8.5 8.5l.94-2.06 2.06-.94-2.06-.94L8.5 2.5l-.94 2.06-2.06.94zm10 10l.94 2.06.94-2.06 2.06-.94-2.06-.94-.94-2.06-.94 2.06-2.06.94z\"/><path d=\"M17.41 7.96l-1.37-1.37c-.4-.4-.92-.59-1.43-.59-.52 0-1.04.2-1.43.59L10.3 9.45l-7.72 7.72c-.78.78-.78 2.05 0 2.83L4 21.41c.39.39.9.59 1.41.59.51 0 1.02-.2 1.41-.59l7.78-7.78 2.81-2.81c.8-.78.8-2.07 0-2.86zM5.41 20L4 18.59l7.72-7.72 1.47 1.35L5.41 20z\"/>\n",
              "  </svg>\n",
              "      </button>\n",
              "      \n",
              "  <style>\n",
              "    .colab-df-container {\n",
              "      display:flex;\n",
              "      flex-wrap:wrap;\n",
              "      gap: 12px;\n",
              "    }\n",
              "\n",
              "    .colab-df-convert {\n",
              "      background-color: #E8F0FE;\n",
              "      border: none;\n",
              "      border-radius: 50%;\n",
              "      cursor: pointer;\n",
              "      display: none;\n",
              "      fill: #1967D2;\n",
              "      height: 32px;\n",
              "      padding: 0 0 0 0;\n",
              "      width: 32px;\n",
              "    }\n",
              "\n",
              "    .colab-df-convert:hover {\n",
              "      background-color: #E2EBFA;\n",
              "      box-shadow: 0px 1px 2px rgba(60, 64, 67, 0.3), 0px 1px 3px 1px rgba(60, 64, 67, 0.15);\n",
              "      fill: #174EA6;\n",
              "    }\n",
              "\n",
              "    [theme=dark] .colab-df-convert {\n",
              "      background-color: #3B4455;\n",
              "      fill: #D2E3FC;\n",
              "    }\n",
              "\n",
              "    [theme=dark] .colab-df-convert:hover {\n",
              "      background-color: #434B5C;\n",
              "      box-shadow: 0px 1px 3px 1px rgba(0, 0, 0, 0.15);\n",
              "      filter: drop-shadow(0px 1px 2px rgba(0, 0, 0, 0.3));\n",
              "      fill: #FFFFFF;\n",
              "    }\n",
              "  </style>\n",
              "\n",
              "      <script>\n",
              "        const buttonEl =\n",
              "          document.querySelector('#df-5bf64c32-f7dd-4c44-8b4b-0c085a9c4c6e button.colab-df-convert');\n",
              "        buttonEl.style.display =\n",
              "          google.colab.kernel.accessAllowed ? 'block' : 'none';\n",
              "\n",
              "        async function convertToInteractive(key) {\n",
              "          const element = document.querySelector('#df-5bf64c32-f7dd-4c44-8b4b-0c085a9c4c6e');\n",
              "          const dataTable =\n",
              "            await google.colab.kernel.invokeFunction('convertToInteractive',\n",
              "                                                     [key], {});\n",
              "          if (!dataTable) return;\n",
              "\n",
              "          const docLinkHtml = 'Like what you see? Visit the ' +\n",
              "            '<a target=\"_blank\" href=https://colab.research.google.com/notebooks/data_table.ipynb>data table notebook</a>'\n",
              "            + ' to learn more about interactive tables.';\n",
              "          element.innerHTML = '';\n",
              "          dataTable['output_type'] = 'display_data';\n",
              "          await google.colab.output.renderOutput(dataTable, element);\n",
              "          const docLink = document.createElement('div');\n",
              "          docLink.innerHTML = docLinkHtml;\n",
              "          element.appendChild(docLink);\n",
              "        }\n",
              "      </script>\n",
              "    </div>\n",
              "  </div>\n",
              "  "
            ],
            "text/plain": [
              "       Weekday  Date  Month  Airline  Source  Destination  Route  Dep_Time  \\\n",
              "0            6    24      3        3       0            3     18      2220   \n",
              "1            2     1      5        1       3            1     84       550   \n",
              "2            6     9      6        4       2            4    118       925   \n",
              "3            6    12      5        3       3            3     91      1805   \n",
              "4            4     1      3        3       0            3     29      1650   \n",
              "...        ...   ...    ...      ...     ...          ...    ...       ...   \n",
              "10677        1     9      4        0       3            0     64      1955   \n",
              "10678        5    27      4        1       3            1     64      2045   \n",
              "10679        5    27      4        4       0            4     18       820   \n",
              "10680        4     1      3       10       0           10     18      1130   \n",
              "10681        3     9      5        1       2            1    108      1055   \n",
              "\n",
              "       Arrival_Time  Duration  Total_Stops  Additional_Info  Price  \n",
              "0               110       170            0                8   3897  \n",
              "1              1315       445            2                8   7662  \n",
              "2               425      1140            2                8  13882  \n",
              "3              2330       325            1                8   6218  \n",
              "4              2135       285            1                8  13302  \n",
              "...             ...       ...          ...              ...    ...  \n",
              "10677          2225       150            0                8   4107  \n",
              "10678          2320       155            0                8   4145  \n",
              "10679          1120       180            0                8   7229  \n",
              "10680          1410       160            0                8  12648  \n",
              "10681          1915       500            2                8  11753  \n",
              "\n",
              "[10682 rows x 13 columns]"
            ]
          },
          "execution_count": 15,
          "metadata": {},
          "output_type": "execute_result"
        }
      ],
      "source": [
        "bp"
      ]
    },
    {
      "cell_type": "markdown",
      "metadata": {
        "id": "Am-Rx758FpTQ"
      },
      "source": [
        "# Visualization"
      ]
    },
    {
      "cell_type": "code",
      "execution_count": null,
      "metadata": {
        "colab": {
          "base_uri": "https://localhost:8080/",
          "height": 1000
        },
        "id": "XH1fDcssEhrx",
        "outputId": "475605a4-165e-422a-8029-00781ad80f59"
      },
      "outputs": [
        {
          "data": {
            "image/png": "[encoded data removed]",
            "text/plain": [
              "<Figure size 432x288 with 1 Axes>"
            ]
          },
          "metadata": {},
          "output_type": "display_data"
        },
        {
          "data": {
            "image/png": "[encoded data removed]",
            "text/plain": [
              "<Figure size 432x288 with 1 Axes>"
            ]
          },
          "metadata": {},
          "output_type": "display_data"
        },
        {
          "data": {
            "image/png": "[encoded data removed]",
            "text/plain": [
              "<Figure size 432x288 with 1 Axes>"
            ]
          },
          "metadata": {},
          "output_type": "display_data"
        },
        {
          "data": {
            "image/png": "[encoded data removed]",
            "text/plain": [
              "<Figure size 432x288 with 1 Axes>"
            ]
          },
          "metadata": {},
          "output_type": "display_data"
        },
        {
          "data": {
            "image/png": "[encoded data removed]",
            "text/plain": [
              "<Figure size 432x288 with 1 Axes>"
            ]
          },
          "metadata": {},
          "output_type": "display_data"
        },
        {
          "data": {
            "image/png": "[encoded data removed]",
            "text/plain": [
              "<Figure size 432x288 with 1 Axes>"
            ]
          },
          "metadata": {},
          "output_type": "display_data"
        },
        {
          "data": {
            "image/png": "[encoded data removed]",
            "text/plain": [
              "<Figure size 432x288 with 1 Axes>"
            ]
          },
          "metadata": {},
          "output_type": "display_data"
        },
        {
          "data": {
            "image/png": "[encoded data removed]",
            "text/plain": [
              "<Figure size 432x288 with 1 Axes>"
            ]
          },
          "metadata": {},
          "output_type": "display_data"
        },
        {
          "data": {
            "image/png": "[encoded data removed]",
            "text/plain": [
              "<Figure size 432x288 with 1 Axes>"
            ]
          },
          "metadata": {},
          "output_type": "display_data"
        },
        {
          "data": {
            "image/png": "[encoded data removed]",
            "text/plain": [
              "<Figure size 432x288 with 1 Axes>"
            ]
          },
          "metadata": {},
          "output_type": "display_data"
        },
        {
          "data": {
            "image/png": "[encoded data removed]",
            "text/plain": [
              "<Figure size 432x288 with 1 Axes>"
            ]
          },
          "metadata": {},
          "output_type": "display_data"
        },
        {
          "data": {
            "image/png": "[encoded data removed]",
            "text/plain": [
              "<Figure size 432x288 with 1 Axes>"
            ]
          },
          "metadata": {},
          "output_type": "display_data"
        }
      ],
      "source": [
        "cols=bp.columns\n",
        "for i in range(len(cols)-1):\n",
        "  bp.plot(cols[i], y='Price',kind='scatter')"
      ]
    },
    {
      "cell_type": "markdown",
      "metadata": {
        "id": "yOKy92AkjYpK"
      },
      "source": [
        "# X and y"
      ]
    },
    {
      "cell_type": "code",
      "execution_count": null,
      "metadata": {
        "id": "Rp43d1OOcbCK"
      },
      "outputs": [],
      "source": [
        "X=bp.drop(['Price'],axis=1)\n",
        "y=bp['Price']"
      ]
    },
    {
      "cell_type": "code",
      "execution_count": null,
      "metadata": {
        "colab": {
          "base_uri": "https://localhost:8080/",
          "height": 424
        },
        "id": "rh184Wzs6jE7",
        "outputId": "3a010969-fe07-498d-b43a-0a2ea2dceaf6"
      },
      "outputs": [
        {
          "data": {
            "text/html": [
              "\n",
              "  <div id=\"df-e96e3a1f-21b8-4486-93dc-d7515d4fe4c3\">\n",
              "    <div class=\"colab-df-container\">\n",
              "      <div>\n",
              "<style scoped>\n",
              "    .dataframe tbody tr th:only-of-type {\n",
              "        vertical-align: middle;\n",
              "    }\n",
              "\n",
              "    .dataframe tbody tr th {\n",
              "        vertical-align: top;\n",
              "    }\n",
              "\n",
              "    .dataframe thead th {\n",
              "        text-align: right;\n",
              "    }\n",
              "</style>\n",
              "<table border=\"1\" class=\"dataframe\">\n",
              "  <thead>\n",
              "    <tr style=\"text-align: right;\">\n",
              "      <th></th>\n",
              "      <th>Weekday</th>\n",
              "      <th>Date</th>\n",
              "      <th>Month</th>\n",
              "      <th>Airline</th>\n",
              "      <th>Source</th>\n",
              "      <th>Destination</th>\n",
              "      <th>Route</th>\n",
              "      <th>Dep_Time</th>\n",
              "      <th>Arrival_Time</th>\n",
              "      <th>Duration</th>\n",
              "      <th>Total_Stops</th>\n",
              "      <th>Additional_Info</th>\n",
              "    </tr>\n",
              "  </thead>\n",
              "  <tbody>\n",
              "    <tr>\n",
              "      <th>0</th>\n",
              "      <td>6</td>\n",
              "      <td>24</td>\n",
              "      <td>3</td>\n",
              "      <td>3</td>\n",
              "      <td>0</td>\n",
              "      <td>3</td>\n",
              "      <td>18</td>\n",
              "      <td>2220</td>\n",
              "      <td>110</td>\n",
              "      <td>170</td>\n",
              "      <td>0</td>\n",
              "      <td>8</td>\n",
              "    </tr>\n",
              "    <tr>\n",
              "      <th>1</th>\n",
              "      <td>2</td>\n",
              "      <td>1</td>\n",
              "      <td>5</td>\n",
              "      <td>1</td>\n",
              "      <td>3</td>\n",
              "      <td>1</td>\n",
              "      <td>84</td>\n",
              "      <td>550</td>\n",
              "      <td>1315</td>\n",
              "      <td>445</td>\n",
              "      <td>2</td>\n",
              "      <td>8</td>\n",
              "    </tr>\n",
              "    <tr>\n",
              "      <th>2</th>\n",
              "      <td>6</td>\n",
              "      <td>9</td>\n",
              "      <td>6</td>\n",
              "      <td>4</td>\n",
              "      <td>2</td>\n",
              "      <td>4</td>\n",
              "      <td>118</td>\n",
              "      <td>925</td>\n",
              "      <td>425</td>\n",
              "      <td>1140</td>\n",
              "      <td>2</td>\n",
              "      <td>8</td>\n",
              "    </tr>\n",
              "    <tr>\n",
              "      <th>3</th>\n",
              "      <td>6</td>\n",
              "      <td>12</td>\n",
              "      <td>5</td>\n",
              "      <td>3</td>\n",
              "      <td>3</td>\n",
              "      <td>3</td>\n",
              "      <td>91</td>\n",
              "      <td>1805</td>\n",
              "      <td>2330</td>\n",
              "      <td>325</td>\n",
              "      <td>1</td>\n",
              "      <td>8</td>\n",
              "    </tr>\n",
              "    <tr>\n",
              "      <th>4</th>\n",
              "      <td>4</td>\n",
              "      <td>1</td>\n",
              "      <td>3</td>\n",
              "      <td>3</td>\n",
              "      <td>0</td>\n",
              "      <td>3</td>\n",
              "      <td>29</td>\n",
              "      <td>1650</td>\n",
              "      <td>2135</td>\n",
              "      <td>285</td>\n",
              "      <td>1</td>\n",
              "      <td>8</td>\n",
              "    </tr>\n",
              "    <tr>\n",
              "      <th>...</th>\n",
              "      <td>...</td>\n",
              "      <td>...</td>\n",
              "      <td>...</td>\n",
              "      <td>...</td>\n",
              "      <td>...</td>\n",
              "      <td>...</td>\n",
              "      <td>...</td>\n",
              "      <td>...</td>\n",
              "      <td>...</td>\n",
              "      <td>...</td>\n",
              "      <td>...</td>\n",
              "      <td>...</td>\n",
              "    </tr>\n",
              "    <tr>\n",
              "      <th>10677</th>\n",
              "      <td>1</td>\n",
              "      <td>9</td>\n",
              "      <td>4</td>\n",
              "      <td>0</td>\n",
              "      <td>3</td>\n",
              "      <td>0</td>\n",
              "      <td>64</td>\n",
              "      <td>1955</td>\n",
              "      <td>2225</td>\n",
              "      <td>150</td>\n",
              "      <td>0</td>\n",
              "      <td>8</td>\n",
              "    </tr>\n",
              "    <tr>\n",
              "      <th>10678</th>\n",
              "      <td>5</td>\n",
              "      <td>27</td>\n",
              "      <td>4</td>\n",
              "      <td>1</td>\n",
              "      <td>3</td>\n",
              "      <td>1</td>\n",
              "      <td>64</td>\n",
              "      <td>2045</td>\n",
              "      <td>2320</td>\n",
              "      <td>155</td>\n",
              "      <td>0</td>\n",
              "      <td>8</td>\n",
              "    </tr>\n",
              "    <tr>\n",
              "      <th>10679</th>\n",
              "      <td>5</td>\n",
              "      <td>27</td>\n",
              "      <td>4</td>\n",
              "      <td>4</td>\n",
              "      <td>0</td>\n",
              "      <td>4</td>\n",
              "      <td>18</td>\n",
              "      <td>820</td>\n",
              "      <td>1120</td>\n",
              "      <td>180</td>\n",
              "      <td>0</td>\n",
              "      <td>8</td>\n",
              "    </tr>\n",
              "    <tr>\n",
              "      <th>10680</th>\n",
              "      <td>4</td>\n",
              "      <td>1</td>\n",
              "      <td>3</td>\n",
              "      <td>10</td>\n",
              "      <td>0</td>\n",
              "      <td>10</td>\n",
              "      <td>18</td>\n",
              "      <td>1130</td>\n",
              "      <td>1410</td>\n",
              "      <td>160</td>\n",
              "      <td>0</td>\n",
              "      <td>8</td>\n",
              "    </tr>\n",
              "    <tr>\n",
              "      <th>10681</th>\n",
              "      <td>3</td>\n",
              "      <td>9</td>\n",
              "      <td>5</td>\n",
              "      <td>1</td>\n",
              "      <td>2</td>\n",
              "      <td>1</td>\n",
              "      <td>108</td>\n",
              "      <td>1055</td>\n",
              "      <td>1915</td>\n",
              "      <td>500</td>\n",
              "      <td>2</td>\n",
              "      <td>8</td>\n",
              "    </tr>\n",
              "  </tbody>\n",
              "</table>\n",
              "<p>10682 rows × 12 columns</p>\n",
              "</div>\n",
              "      <button class=\"colab-df-convert\" onclick=\"convertToInteractive('df-e96e3a1f-21b8-4486-93dc-d7515d4fe4c3')\"\n",
              "              title=\"Convert this dataframe to an interactive table.\"\n",
              "              style=\"display:none;\">\n",
              "        \n",
              "  <svg xmlns=\"http://www.w3.org/2000/svg\" height=\"24px\"viewBox=\"0 0 24 24\"\n",
              "       width=\"24px\">\n",
              "    <path d=\"M0 0h24v24H0V0z\" fill=\"none\"/>\n",
              "    <path d=\"M18.56 5.44l.94 2.06.94-2.06 2.06-.94-2.06-.94-.94-2.06-.94 2.06-2.06.94zm-11 1L8.5 8.5l.94-2.06 2.06-.94-2.06-.94L8.5 2.5l-.94 2.06-2.06.94zm10 10l.94 2.06.94-2.06 2.06-.94-2.06-.94-.94-2.06-.94 2.06-2.06.94z\"/><path d=\"M17.41 7.96l-1.37-1.37c-.4-.4-.92-.59-1.43-.59-.52 0-1.04.2-1.43.59L10.3 9.45l-7.72 7.72c-.78.78-.78 2.05 0 2.83L4 21.41c.39.39.9.59 1.41.59.51 0 1.02-.2 1.41-.59l7.78-7.78 2.81-2.81c.8-.78.8-2.07 0-2.86zM5.41 20L4 18.59l7.72-7.72 1.47 1.35L5.41 20z\"/>\n",
              "  </svg>\n",
              "      </button>\n",
              "      \n",
              "  <style>\n",
              "    .colab-df-container {\n",
              "      display:flex;\n",
              "      flex-wrap:wrap;\n",
              "      gap: 12px;\n",
              "    }\n",
              "\n",
              "    .colab-df-convert {\n",
              "      background-color: #E8F0FE;\n",
              "      border: none;\n",
              "      border-radius: 50%;\n",
              "      cursor: pointer;\n",
              "      display: none;\n",
              "      fill: #1967D2;\n",
              "      height: 32px;\n",
              "      padding: 0 0 0 0;\n",
              "      width: 32px;\n",
              "    }\n",
              "\n",
              "    .colab-df-convert:hover {\n",
              "      background-color: #E2EBFA;\n",
              "      box-shadow: 0px 1px 2px rgba(60, 64, 67, 0.3), 0px 1px 3px 1px rgba(60, 64, 67, 0.15);\n",
              "      fill: #174EA6;\n",
              "    }\n",
              "\n",
              "    [theme=dark] .colab-df-convert {\n",
              "      background-color: #3B4455;\n",
              "      fill: #D2E3FC;\n",
              "    }\n",
              "\n",
              "    [theme=dark] .colab-df-convert:hover {\n",
              "      background-color: #434B5C;\n",
              "      box-shadow: 0px 1px 3px 1px rgba(0, 0, 0, 0.15);\n",
              "      filter: drop-shadow(0px 1px 2px rgba(0, 0, 0, 0.3));\n",
              "      fill: #FFFFFF;\n",
              "    }\n",
              "  </style>\n",
              "\n",
              "      <script>\n",
              "        const buttonEl =\n",
              "          document.querySelector('#df-e96e3a1f-21b8-4486-93dc-d7515d4fe4c3 button.colab-df-convert');\n",
              "        buttonEl.style.display =\n",
              "          google.colab.kernel.accessAllowed ? 'block' : 'none';\n",
              "\n",
              "        async function convertToInteractive(key) {\n",
              "          const element = document.querySelector('#df-e96e3a1f-21b8-4486-93dc-d7515d4fe4c3');\n",
              "          const dataTable =\n",
              "            await google.colab.kernel.invokeFunction('convertToInteractive',\n",
              "                                                     [key], {});\n",
              "          if (!dataTable) return;\n",
              "\n",
              "          const docLinkHtml = 'Like what you see? Visit the ' +\n",
              "            '<a target=\"_blank\" href=https://colab.research.google.com/notebooks/data_table.ipynb>data table notebook</a>'\n",
              "            + ' to learn more about interactive tables.';\n",
              "          element.innerHTML = '';\n",
              "          dataTable['output_type'] = 'display_data';\n",
              "          await google.colab.output.renderOutput(dataTable, element);\n",
              "          const docLink = document.createElement('div');\n",
              "          docLink.innerHTML = docLinkHtml;\n",
              "          element.appendChild(docLink);\n",
              "        }\n",
              "      </script>\n",
              "    </div>\n",
              "  </div>\n",
              "  "
            ],
            "text/plain": [
              "       Weekday  Date  Month  Airline  Source  Destination  Route  Dep_Time  \\\n",
              "0            6    24      3        3       0            3     18      2220   \n",
              "1            2     1      5        1       3            1     84       550   \n",
              "2            6     9      6        4       2            4    118       925   \n",
              "3            6    12      5        3       3            3     91      1805   \n",
              "4            4     1      3        3       0            3     29      1650   \n",
              "...        ...   ...    ...      ...     ...          ...    ...       ...   \n",
              "10677        1     9      4        0       3            0     64      1955   \n",
              "10678        5    27      4        1       3            1     64      2045   \n",
              "10679        5    27      4        4       0            4     18       820   \n",
              "10680        4     1      3       10       0           10     18      1130   \n",
              "10681        3     9      5        1       2            1    108      1055   \n",
              "\n",
              "       Arrival_Time  Duration  Total_Stops  Additional_Info  \n",
              "0               110       170            0                8  \n",
              "1              1315       445            2                8  \n",
              "2               425      1140            2                8  \n",
              "3              2330       325            1                8  \n",
              "4              2135       285            1                8  \n",
              "...             ...       ...          ...              ...  \n",
              "10677          2225       150            0                8  \n",
              "10678          2320       155            0                8  \n",
              "10679          1120       180            0                8  \n",
              "10680          1410       160            0                8  \n",
              "10681          1915       500            2                8  \n",
              "\n",
              "[10682 rows x 12 columns]"
            ]
          },
          "execution_count": 18,
          "metadata": {},
          "output_type": "execute_result"
        }
      ],
      "source": [
        "X"
      ]
    },
    {
      "cell_type": "markdown",
      "metadata": {
        "id": "6t-i1A3iJuKv"
      },
      "source": [
        "## Scaling"
      ]
    },
    {
      "cell_type": "markdown",
      "metadata": {
        "id": "LZRgwPo2V6FZ"
      },
      "source": [
        "## Standard Scaler"
      ]
    },
    {
      "cell_type": "code",
      "execution_count": null,
      "metadata": {
        "id": "2T_t1rkSSZ08"
      },
      "outputs": [],
      "source": [
        "from sklearn.preprocessing import StandardScaler\n",
        "scaler=StandardScaler()\n",
        "X_scaled=scaler.fit_transform(X)"
      ]
    },
    {
      "cell_type": "markdown",
      "metadata": {
        "id": "k5oJA0cMWILa"
      },
      "source": [
        "## Min max scaling only Departure time,Arrival time and Duration"
      ]
    },
    {
      "cell_type": "code",
      "execution_count": null,
      "metadata": {
        "colab": {
          "base_uri": "https://localhost:8080/",
          "height": 424
        },
        "id": "NlYoAf89elBS",
        "outputId": "82946907-8979-41a2-e201-8b77abf6ac4f"
      },
      "outputs": [
        {
          "data": {
            "text/html": [
              "\n",
              "  <div id=\"df-1e45bfe0-89b8-4cc3-b04b-59f951734bf1\">\n",
              "    <div class=\"colab-df-container\">\n",
              "      <div>\n",
              "<style scoped>\n",
              "    .dataframe tbody tr th:only-of-type {\n",
              "        vertical-align: middle;\n",
              "    }\n",
              "\n",
              "    .dataframe tbody tr th {\n",
              "        vertical-align: top;\n",
              "    }\n",
              "\n",
              "    .dataframe thead th {\n",
              "        text-align: right;\n",
              "    }\n",
              "</style>\n",
              "<table border=\"1\" class=\"dataframe\">\n",
              "  <thead>\n",
              "    <tr style=\"text-align: right;\">\n",
              "      <th></th>\n",
              "      <th>Weekday</th>\n",
              "      <th>Date</th>\n",
              "      <th>Month</th>\n",
              "      <th>Airline</th>\n",
              "      <th>Source</th>\n",
              "      <th>Destination</th>\n",
              "      <th>Route</th>\n",
              "      <th>Dep_Time</th>\n",
              "      <th>Arrival_Time</th>\n",
              "      <th>Duration</th>\n",
              "      <th>Total_Stops</th>\n",
              "      <th>Additional_Info</th>\n",
              "    </tr>\n",
              "  </thead>\n",
              "  <tbody>\n",
              "    <tr>\n",
              "      <th>0</th>\n",
              "      <td>6</td>\n",
              "      <td>24</td>\n",
              "      <td>3</td>\n",
              "      <td>3</td>\n",
              "      <td>0</td>\n",
              "      <td>3</td>\n",
              "      <td>18</td>\n",
              "      <td>2220</td>\n",
              "      <td>110</td>\n",
              "      <td>170</td>\n",
              "      <td>0</td>\n",
              "      <td>8</td>\n",
              "    </tr>\n",
              "    <tr>\n",
              "      <th>1</th>\n",
              "      <td>2</td>\n",
              "      <td>1</td>\n",
              "      <td>5</td>\n",
              "      <td>1</td>\n",
              "      <td>3</td>\n",
              "      <td>1</td>\n",
              "      <td>84</td>\n",
              "      <td>550</td>\n",
              "      <td>1315</td>\n",
              "      <td>445</td>\n",
              "      <td>2</td>\n",
              "      <td>8</td>\n",
              "    </tr>\n",
              "    <tr>\n",
              "      <th>2</th>\n",
              "      <td>6</td>\n",
              "      <td>9</td>\n",
              "      <td>6</td>\n",
              "      <td>4</td>\n",
              "      <td>2</td>\n",
              "      <td>4</td>\n",
              "      <td>118</td>\n",
              "      <td>925</td>\n",
              "      <td>425</td>\n",
              "      <td>1140</td>\n",
              "      <td>2</td>\n",
              "      <td>8</td>\n",
              "    </tr>\n",
              "    <tr>\n",
              "      <th>3</th>\n",
              "      <td>6</td>\n",
              "      <td>12</td>\n",
              "      <td>5</td>\n",
              "      <td>3</td>\n",
              "      <td>3</td>\n",
              "      <td>3</td>\n",
              "      <td>91</td>\n",
              "      <td>1805</td>\n",
              "      <td>2330</td>\n",
              "      <td>325</td>\n",
              "      <td>1</td>\n",
              "      <td>8</td>\n",
              "    </tr>\n",
              "    <tr>\n",
              "      <th>4</th>\n",
              "      <td>4</td>\n",
              "      <td>1</td>\n",
              "      <td>3</td>\n",
              "      <td>3</td>\n",
              "      <td>0</td>\n",
              "      <td>3</td>\n",
              "      <td>29</td>\n",
              "      <td>1650</td>\n",
              "      <td>2135</td>\n",
              "      <td>285</td>\n",
              "      <td>1</td>\n",
              "      <td>8</td>\n",
              "    </tr>\n",
              "    <tr>\n",
              "      <th>...</th>\n",
              "      <td>...</td>\n",
              "      <td>...</td>\n",
              "      <td>...</td>\n",
              "      <td>...</td>\n",
              "      <td>...</td>\n",
              "      <td>...</td>\n",
              "      <td>...</td>\n",
              "      <td>...</td>\n",
              "      <td>...</td>\n",
              "      <td>...</td>\n",
              "      <td>...</td>\n",
              "      <td>...</td>\n",
              "    </tr>\n",
              "    <tr>\n",
              "      <th>10677</th>\n",
              "      <td>1</td>\n",
              "      <td>9</td>\n",
              "      <td>4</td>\n",
              "      <td>0</td>\n",
              "      <td>3</td>\n",
              "      <td>0</td>\n",
              "      <td>64</td>\n",
              "      <td>1955</td>\n",
              "      <td>2225</td>\n",
              "      <td>150</td>\n",
              "      <td>0</td>\n",
              "      <td>8</td>\n",
              "    </tr>\n",
              "    <tr>\n",
              "      <th>10678</th>\n",
              "      <td>5</td>\n",
              "      <td>27</td>\n",
              "      <td>4</td>\n",
              "      <td>1</td>\n",
              "      <td>3</td>\n",
              "      <td>1</td>\n",
              "      <td>64</td>\n",
              "      <td>2045</td>\n",
              "      <td>2320</td>\n",
              "      <td>155</td>\n",
              "      <td>0</td>\n",
              "      <td>8</td>\n",
              "    </tr>\n",
              "    <tr>\n",
              "      <th>10679</th>\n",
              "      <td>5</td>\n",
              "      <td>27</td>\n",
              "      <td>4</td>\n",
              "      <td>4</td>\n",
              "      <td>0</td>\n",
              "      <td>4</td>\n",
              "      <td>18</td>\n",
              "      <td>820</td>\n",
              "      <td>1120</td>\n",
              "      <td>180</td>\n",
              "      <td>0</td>\n",
              "      <td>8</td>\n",
              "    </tr>\n",
              "    <tr>\n",
              "      <th>10680</th>\n",
              "      <td>4</td>\n",
              "      <td>1</td>\n",
              "      <td>3</td>\n",
              "      <td>10</td>\n",
              "      <td>0</td>\n",
              "      <td>10</td>\n",
              "      <td>18</td>\n",
              "      <td>1130</td>\n",
              "      <td>1410</td>\n",
              "      <td>160</td>\n",
              "      <td>0</td>\n",
              "      <td>8</td>\n",
              "    </tr>\n",
              "    <tr>\n",
              "      <th>10681</th>\n",
              "      <td>3</td>\n",
              "      <td>9</td>\n",
              "      <td>5</td>\n",
              "      <td>1</td>\n",
              "      <td>2</td>\n",
              "      <td>1</td>\n",
              "      <td>108</td>\n",
              "      <td>1055</td>\n",
              "      <td>1915</td>\n",
              "      <td>500</td>\n",
              "      <td>2</td>\n",
              "      <td>8</td>\n",
              "    </tr>\n",
              "  </tbody>\n",
              "</table>\n",
              "<p>10682 rows × 12 columns</p>\n",
              "</div>\n",
              "      <button class=\"colab-df-convert\" onclick=\"convertToInteractive('df-1e45bfe0-89b8-4cc3-b04b-59f951734bf1')\"\n",
              "              title=\"Convert this dataframe to an interactive table.\"\n",
              "              style=\"display:none;\">\n",
              "        \n",
              "  <svg xmlns=\"http://www.w3.org/2000/svg\" height=\"24px\"viewBox=\"0 0 24 24\"\n",
              "       width=\"24px\">\n",
              "    <path d=\"M0 0h24v24H0V0z\" fill=\"none\"/>\n",
              "    <path d=\"M18.56 5.44l.94 2.06.94-2.06 2.06-.94-2.06-.94-.94-2.06-.94 2.06-2.06.94zm-11 1L8.5 8.5l.94-2.06 2.06-.94-2.06-.94L8.5 2.5l-.94 2.06-2.06.94zm10 10l.94 2.06.94-2.06 2.06-.94-2.06-.94-.94-2.06-.94 2.06-2.06.94z\"/><path d=\"M17.41 7.96l-1.37-1.37c-.4-.4-.92-.59-1.43-.59-.52 0-1.04.2-1.43.59L10.3 9.45l-7.72 7.72c-.78.78-.78 2.05 0 2.83L4 21.41c.39.39.9.59 1.41.59.51 0 1.02-.2 1.41-.59l7.78-7.78 2.81-2.81c.8-.78.8-2.07 0-2.86zM5.41 20L4 18.59l7.72-7.72 1.47 1.35L5.41 20z\"/>\n",
              "  </svg>\n",
              "      </button>\n",
              "      \n",
              "  <style>\n",
              "    .colab-df-container {\n",
              "      display:flex;\n",
              "      flex-wrap:wrap;\n",
              "      gap: 12px;\n",
              "    }\n",
              "\n",
              "    .colab-df-convert {\n",
              "      background-color: #E8F0FE;\n",
              "      border: none;\n",
              "      border-radius: 50%;\n",
              "      cursor: pointer;\n",
              "      display: none;\n",
              "      fill: #1967D2;\n",
              "      height: 32px;\n",
              "      padding: 0 0 0 0;\n",
              "      width: 32px;\n",
              "    }\n",
              "\n",
              "    .colab-df-convert:hover {\n",
              "      background-color: #E2EBFA;\n",
              "      box-shadow: 0px 1px 2px rgba(60, 64, 67, 0.3), 0px 1px 3px 1px rgba(60, 64, 67, 0.15);\n",
              "      fill: #174EA6;\n",
              "    }\n",
              "\n",
              "    [theme=dark] .colab-df-convert {\n",
              "      background-color: #3B4455;\n",
              "      fill: #D2E3FC;\n",
              "    }\n",
              "\n",
              "    [theme=dark] .colab-df-convert:hover {\n",
              "      background-color: #434B5C;\n",
              "      box-shadow: 0px 1px 3px 1px rgba(0, 0, 0, 0.15);\n",
              "      filter: drop-shadow(0px 1px 2px rgba(0, 0, 0, 0.3));\n",
              "      fill: #FFFFFF;\n",
              "    }\n",
              "  </style>\n",
              "\n",
              "      <script>\n",
              "        const buttonEl =\n",
              "          document.querySelector('#df-1e45bfe0-89b8-4cc3-b04b-59f951734bf1 button.colab-df-convert');\n",
              "        buttonEl.style.display =\n",
              "          google.colab.kernel.accessAllowed ? 'block' : 'none';\n",
              "\n",
              "        async function convertToInteractive(key) {\n",
              "          const element = document.querySelector('#df-1e45bfe0-89b8-4cc3-b04b-59f951734bf1');\n",
              "          const dataTable =\n",
              "            await google.colab.kernel.invokeFunction('convertToInteractive',\n",
              "                                                     [key], {});\n",
              "          if (!dataTable) return;\n",
              "\n",
              "          const docLinkHtml = 'Like what you see? Visit the ' +\n",
              "            '<a target=\"_blank\" href=https://colab.research.google.com/notebooks/data_table.ipynb>data table notebook</a>'\n",
              "            + ' to learn more about interactive tables.';\n",
              "          element.innerHTML = '';\n",
              "          dataTable['output_type'] = 'display_data';\n",
              "          await google.colab.output.renderOutput(dataTable, element);\n",
              "          const docLink = document.createElement('div');\n",
              "          docLink.innerHTML = docLinkHtml;\n",
              "          element.appendChild(docLink);\n",
              "        }\n",
              "      </script>\n",
              "    </div>\n",
              "  </div>\n",
              "  "
            ],
            "text/plain": [
              "       Weekday  Date  Month  Airline  Source  Destination  Route  Dep_Time  \\\n",
              "0            6    24      3        3       0            3     18      2220   \n",
              "1            2     1      5        1       3            1     84       550   \n",
              "2            6     9      6        4       2            4    118       925   \n",
              "3            6    12      5        3       3            3     91      1805   \n",
              "4            4     1      3        3       0            3     29      1650   \n",
              "...        ...   ...    ...      ...     ...          ...    ...       ...   \n",
              "10677        1     9      4        0       3            0     64      1955   \n",
              "10678        5    27      4        1       3            1     64      2045   \n",
              "10679        5    27      4        4       0            4     18       820   \n",
              "10680        4     1      3       10       0           10     18      1130   \n",
              "10681        3     9      5        1       2            1    108      1055   \n",
              "\n",
              "       Arrival_Time  Duration  Total_Stops  Additional_Info  \n",
              "0               110       170            0                8  \n",
              "1              1315       445            2                8  \n",
              "2               425      1140            2                8  \n",
              "3              2330       325            1                8  \n",
              "4              2135       285            1                8  \n",
              "...             ...       ...          ...              ...  \n",
              "10677          2225       150            0                8  \n",
              "10678          2320       155            0                8  \n",
              "10679          1120       180            0                8  \n",
              "10680          1410       160            0                8  \n",
              "10681          1915       500            2                8  \n",
              "\n",
              "[10682 rows x 12 columns]"
            ]
          },
          "execution_count": 20,
          "metadata": {},
          "output_type": "execute_result"
        }
      ],
      "source": [
        "X1=X.copy()\n",
        "X1"
      ]
    },
    {
      "cell_type": "code",
      "execution_count": null,
      "metadata": {
        "id": "__1Al1tUewlc"
      },
      "outputs": [],
      "source": [
        "max_dt=2359\n",
        "min_dt=0000\n",
        "\n",
        "max_at=2359\n",
        "min_at=0000\n",
        "\n",
        "max_d=X['Duration'].max()\n",
        "min_d=X['Duration'].min()"
      ]
    },
    {
      "cell_type": "code",
      "execution_count": null,
      "metadata": {
        "id": "GPmAMM2tlxOx"
      },
      "outputs": [],
      "source": [
        "X1['Dep_Time'] = X1['Dep_Time'].astype(float)\n",
        "X1['Arrival_Time'] = X1['Arrival_Time'].astype(float)\n",
        "X1['Duration'] = X1['Duration'].astype(float)\n"
      ]
    },
    {
      "cell_type": "code",
      "execution_count": null,
      "metadata": {
        "id": "mZyr3PgGeLWV"
      },
      "outputs": [],
      "source": [
        "for i in range(len(X['Dep_Time'])):\n",
        "  X1['Dep_Time'][i]= (max_dt-X['Dep_Time'][i])/2359\n",
        "\n",
        "  X1['Arrival_Time'][i]= (max_at-X['Arrival_Time'][i])/2359\n",
        "\n",
        "  X1['Duration'][i]= (max_d-X['Duration'][i])/(max_d-min_d)"
      ]
    },
    {
      "cell_type": "markdown",
      "metadata": {
        "id": "pBC3iAkgWYoJ"
      },
      "source": [
        "## Printing all X"
      ]
    },
    {
      "cell_type": "code",
      "execution_count": null,
      "metadata": {
        "colab": {
          "base_uri": "https://localhost:8080/",
          "height": 424
        },
        "id": "AycXII2SM83x",
        "outputId": "4c7f555b-3626-4b86-b4fd-8876a52dd7f5"
      },
      "outputs": [
        {
          "data": {
            "text/html": [
              "\n",
              "  <div id=\"df-fb7c4e35-9b32-456a-a5d2-f3626ae65ff4\">\n",
              "    <div class=\"colab-df-container\">\n",
              "      <div>\n",
              "<style scoped>\n",
              "    .dataframe tbody tr th:only-of-type {\n",
              "        vertical-align: middle;\n",
              "    }\n",
              "\n",
              "    .dataframe tbody tr th {\n",
              "        vertical-align: top;\n",
              "    }\n",
              "\n",
              "    .dataframe thead th {\n",
              "        text-align: right;\n",
              "    }\n",
              "</style>\n",
              "<table border=\"1\" class=\"dataframe\">\n",
              "  <thead>\n",
              "    <tr style=\"text-align: right;\">\n",
              "      <th></th>\n",
              "      <th>Weekday</th>\n",
              "      <th>Date</th>\n",
              "      <th>Month</th>\n",
              "      <th>Airline</th>\n",
              "      <th>Source</th>\n",
              "      <th>Destination</th>\n",
              "      <th>Route</th>\n",
              "      <th>Dep_Time</th>\n",
              "      <th>Arrival_Time</th>\n",
              "      <th>Duration</th>\n",
              "      <th>Total_Stops</th>\n",
              "      <th>Additional_Info</th>\n",
              "    </tr>\n",
              "  </thead>\n",
              "  <tbody>\n",
              "    <tr>\n",
              "      <th>0</th>\n",
              "      <td>6</td>\n",
              "      <td>24</td>\n",
              "      <td>3</td>\n",
              "      <td>3</td>\n",
              "      <td>0</td>\n",
              "      <td>3</td>\n",
              "      <td>18</td>\n",
              "      <td>2220</td>\n",
              "      <td>110</td>\n",
              "      <td>170</td>\n",
              "      <td>0</td>\n",
              "      <td>8</td>\n",
              "    </tr>\n",
              "    <tr>\n",
              "      <th>1</th>\n",
              "      <td>2</td>\n",
              "      <td>1</td>\n",
              "      <td>5</td>\n",
              "      <td>1</td>\n",
              "      <td>3</td>\n",
              "      <td>1</td>\n",
              "      <td>84</td>\n",
              "      <td>550</td>\n",
              "      <td>1315</td>\n",
              "      <td>445</td>\n",
              "      <td>2</td>\n",
              "      <td>8</td>\n",
              "    </tr>\n",
              "    <tr>\n",
              "      <th>2</th>\n",
              "      <td>6</td>\n",
              "      <td>9</td>\n",
              "      <td>6</td>\n",
              "      <td>4</td>\n",
              "      <td>2</td>\n",
              "      <td>4</td>\n",
              "      <td>118</td>\n",
              "      <td>925</td>\n",
              "      <td>425</td>\n",
              "      <td>1140</td>\n",
              "      <td>2</td>\n",
              "      <td>8</td>\n",
              "    </tr>\n",
              "    <tr>\n",
              "      <th>3</th>\n",
              "      <td>6</td>\n",
              "      <td>12</td>\n",
              "      <td>5</td>\n",
              "      <td>3</td>\n",
              "      <td>3</td>\n",
              "      <td>3</td>\n",
              "      <td>91</td>\n",
              "      <td>1805</td>\n",
              "      <td>2330</td>\n",
              "      <td>325</td>\n",
              "      <td>1</td>\n",
              "      <td>8</td>\n",
              "    </tr>\n",
              "    <tr>\n",
              "      <th>4</th>\n",
              "      <td>4</td>\n",
              "      <td>1</td>\n",
              "      <td>3</td>\n",
              "      <td>3</td>\n",
              "      <td>0</td>\n",
              "      <td>3</td>\n",
              "      <td>29</td>\n",
              "      <td>1650</td>\n",
              "      <td>2135</td>\n",
              "      <td>285</td>\n",
              "      <td>1</td>\n",
              "      <td>8</td>\n",
              "    </tr>\n",
              "    <tr>\n",
              "      <th>...</th>\n",
              "      <td>...</td>\n",
              "      <td>...</td>\n",
              "      <td>...</td>\n",
              "      <td>...</td>\n",
              "      <td>...</td>\n",
              "      <td>...</td>\n",
              "      <td>...</td>\n",
              "      <td>...</td>\n",
              "      <td>...</td>\n",
              "      <td>...</td>\n",
              "      <td>...</td>\n",
              "      <td>...</td>\n",
              "    </tr>\n",
              "    <tr>\n",
              "      <th>10677</th>\n",
              "      <td>1</td>\n",
              "      <td>9</td>\n",
              "      <td>4</td>\n",
              "      <td>0</td>\n",
              "      <td>3</td>\n",
              "      <td>0</td>\n",
              "      <td>64</td>\n",
              "      <td>1955</td>\n",
              "      <td>2225</td>\n",
              "      <td>150</td>\n",
              "      <td>0</td>\n",
              "      <td>8</td>\n",
              "    </tr>\n",
              "    <tr>\n",
              "      <th>10678</th>\n",
              "      <td>5</td>\n",
              "      <td>27</td>\n",
              "      <td>4</td>\n",
              "      <td>1</td>\n",
              "      <td>3</td>\n",
              "      <td>1</td>\n",
              "      <td>64</td>\n",
              "      <td>2045</td>\n",
              "      <td>2320</td>\n",
              "      <td>155</td>\n",
              "      <td>0</td>\n",
              "      <td>8</td>\n",
              "    </tr>\n",
              "    <tr>\n",
              "      <th>10679</th>\n",
              "      <td>5</td>\n",
              "      <td>27</td>\n",
              "      <td>4</td>\n",
              "      <td>4</td>\n",
              "      <td>0</td>\n",
              "      <td>4</td>\n",
              "      <td>18</td>\n",
              "      <td>820</td>\n",
              "      <td>1120</td>\n",
              "      <td>180</td>\n",
              "      <td>0</td>\n",
              "      <td>8</td>\n",
              "    </tr>\n",
              "    <tr>\n",
              "      <th>10680</th>\n",
              "      <td>4</td>\n",
              "      <td>1</td>\n",
              "      <td>3</td>\n",
              "      <td>10</td>\n",
              "      <td>0</td>\n",
              "      <td>10</td>\n",
              "      <td>18</td>\n",
              "      <td>1130</td>\n",
              "      <td>1410</td>\n",
              "      <td>160</td>\n",
              "      <td>0</td>\n",
              "      <td>8</td>\n",
              "    </tr>\n",
              "    <tr>\n",
              "      <th>10681</th>\n",
              "      <td>3</td>\n",
              "      <td>9</td>\n",
              "      <td>5</td>\n",
              "      <td>1</td>\n",
              "      <td>2</td>\n",
              "      <td>1</td>\n",
              "      <td>108</td>\n",
              "      <td>1055</td>\n",
              "      <td>1915</td>\n",
              "      <td>500</td>\n",
              "      <td>2</td>\n",
              "      <td>8</td>\n",
              "    </tr>\n",
              "  </tbody>\n",
              "</table>\n",
              "<p>10682 rows × 12 columns</p>\n",
              "</div>\n",
              "      <button class=\"colab-df-convert\" onclick=\"convertToInteractive('df-fb7c4e35-9b32-456a-a5d2-f3626ae65ff4')\"\n",
              "              title=\"Convert this dataframe to an interactive table.\"\n",
              "              style=\"display:none;\">\n",
              "        \n",
              "  <svg xmlns=\"http://www.w3.org/2000/svg\" height=\"24px\"viewBox=\"0 0 24 24\"\n",
              "       width=\"24px\">\n",
              "    <path d=\"M0 0h24v24H0V0z\" fill=\"none\"/>\n",
              "    <path d=\"M18.56 5.44l.94 2.06.94-2.06 2.06-.94-2.06-.94-.94-2.06-.94 2.06-2.06.94zm-11 1L8.5 8.5l.94-2.06 2.06-.94-2.06-.94L8.5 2.5l-.94 2.06-2.06.94zm10 10l.94 2.06.94-2.06 2.06-.94-2.06-.94-.94-2.06-.94 2.06-2.06.94z\"/><path d=\"M17.41 7.96l-1.37-1.37c-.4-.4-.92-.59-1.43-.59-.52 0-1.04.2-1.43.59L10.3 9.45l-7.72 7.72c-.78.78-.78 2.05 0 2.83L4 21.41c.39.39.9.59 1.41.59.51 0 1.02-.2 1.41-.59l7.78-7.78 2.81-2.81c.8-.78.8-2.07 0-2.86zM5.41 20L4 18.59l7.72-7.72 1.47 1.35L5.41 20z\"/>\n",
              "  </svg>\n",
              "      </button>\n",
              "      \n",
              "  <style>\n",
              "    .colab-df-container {\n",
              "      display:flex;\n",
              "      flex-wrap:wrap;\n",
              "      gap: 12px;\n",
              "    }\n",
              "\n",
              "    .colab-df-convert {\n",
              "      background-color: #E8F0FE;\n",
              "      border: none;\n",
              "      border-radius: 50%;\n",
              "      cursor: pointer;\n",
              "      display: none;\n",
              "      fill: #1967D2;\n",
              "      height: 32px;\n",
              "      padding: 0 0 0 0;\n",
              "      width: 32px;\n",
              "    }\n",
              "\n",
              "    .colab-df-convert:hover {\n",
              "      background-color: #E2EBFA;\n",
              "      box-shadow: 0px 1px 2px rgba(60, 64, 67, 0.3), 0px 1px 3px 1px rgba(60, 64, 67, 0.15);\n",
              "      fill: #174EA6;\n",
              "    }\n",
              "\n",
              "    [theme=dark] .colab-df-convert {\n",
              "      background-color: #3B4455;\n",
              "      fill: #D2E3FC;\n",
              "    }\n",
              "\n",
              "    [theme=dark] .colab-df-convert:hover {\n",
              "      background-color: #434B5C;\n",
              "      box-shadow: 0px 1px 3px 1px rgba(0, 0, 0, 0.15);\n",
              "      filter: drop-shadow(0px 1px 2px rgba(0, 0, 0, 0.3));\n",
              "      fill: #FFFFFF;\n",
              "    }\n",
              "  </style>\n",
              "\n",
              "      <script>\n",
              "        const buttonEl =\n",
              "          document.querySelector('#df-fb7c4e35-9b32-456a-a5d2-f3626ae65ff4 button.colab-df-convert');\n",
              "        buttonEl.style.display =\n",
              "          google.colab.kernel.accessAllowed ? 'block' : 'none';\n",
              "\n",
              "        async function convertToInteractive(key) {\n",
              "          const element = document.querySelector('#df-fb7c4e35-9b32-456a-a5d2-f3626ae65ff4');\n",
              "          const dataTable =\n",
              "            await google.colab.kernel.invokeFunction('convertToInteractive',\n",
              "                                                     [key], {});\n",
              "          if (!dataTable) return;\n",
              "\n",
              "          const docLinkHtml = 'Like what you see? Visit the ' +\n",
              "            '<a target=\"_blank\" href=https://colab.research.google.com/notebooks/data_table.ipynb>data table notebook</a>'\n",
              "            + ' to learn more about interactive tables.';\n",
              "          element.innerHTML = '';\n",
              "          dataTable['output_type'] = 'display_data';\n",
              "          await google.colab.output.renderOutput(dataTable, element);\n",
              "          const docLink = document.createElement('div');\n",
              "          docLink.innerHTML = docLinkHtml;\n",
              "          element.appendChild(docLink);\n",
              "        }\n",
              "      </script>\n",
              "    </div>\n",
              "  </div>\n",
              "  "
            ],
            "text/plain": [
              "       Weekday  Date  Month  Airline  Source  Destination  Route  Dep_Time  \\\n",
              "0            6    24      3        3       0            3     18      2220   \n",
              "1            2     1      5        1       3            1     84       550   \n",
              "2            6     9      6        4       2            4    118       925   \n",
              "3            6    12      5        3       3            3     91      1805   \n",
              "4            4     1      3        3       0            3     29      1650   \n",
              "...        ...   ...    ...      ...     ...          ...    ...       ...   \n",
              "10677        1     9      4        0       3            0     64      1955   \n",
              "10678        5    27      4        1       3            1     64      2045   \n",
              "10679        5    27      4        4       0            4     18       820   \n",
              "10680        4     1      3       10       0           10     18      1130   \n",
              "10681        3     9      5        1       2            1    108      1055   \n",
              "\n",
              "       Arrival_Time  Duration  Total_Stops  Additional_Info  \n",
              "0               110       170            0                8  \n",
              "1              1315       445            2                8  \n",
              "2               425      1140            2                8  \n",
              "3              2330       325            1                8  \n",
              "4              2135       285            1                8  \n",
              "...             ...       ...          ...              ...  \n",
              "10677          2225       150            0                8  \n",
              "10678          2320       155            0                8  \n",
              "10679          1120       180            0                8  \n",
              "10680          1410       160            0                8  \n",
              "10681          1915       500            2                8  \n",
              "\n",
              "[10682 rows x 12 columns]"
            ]
          },
          "execution_count": 24,
          "metadata": {},
          "output_type": "execute_result"
        }
      ],
      "source": [
        "X"
      ]
    },
    {
      "cell_type": "code",
      "execution_count": null,
      "metadata": {
        "colab": {
          "base_uri": "https://localhost:8080/"
        },
        "id": "XuuhWeB6QUJd",
        "outputId": "be204de2-beb7-4605-bd74-bdc9bc2566bd"
      },
      "outputs": [
        {
          "data": {
            "text/plain": [
              "array([[ 1.52747598,  1.23728754, -1.46740227, ..., -0.93149778,\n",
              "        -1.22119865,  0.49992092],\n",
              "       [-0.46604837, -1.47530729,  0.25028893, ..., -0.38995278,\n",
              "         1.74252825,  0.49992092],\n",
              "       [ 1.52747598, -0.53179604,  1.10913453, ...,  0.97867915,\n",
              "         1.74252825,  0.49992092],\n",
              "       ...,\n",
              "       [ 1.02909489,  1.59110426, -0.60855667, ..., -0.91180524,\n",
              "        -1.22119865,  0.49992092],\n",
              "       [ 0.53071381, -1.47530729, -1.46740227, ..., -0.95119033,\n",
              "        -1.22119865,  0.49992092],\n",
              "       [ 0.03233272, -0.53179604,  0.25028893, ..., -0.28164378,\n",
              "         1.74252825,  0.49992092]])"
            ]
          },
          "execution_count": 25,
          "metadata": {},
          "output_type": "execute_result"
        }
      ],
      "source": [
        "X_scaled"
      ]
    },
    {
      "cell_type": "code",
      "execution_count": null,
      "metadata": {
        "colab": {
          "base_uri": "https://localhost:8080/",
          "height": 424
        },
        "id": "vWeRLX0mkxBb",
        "outputId": "33a3611f-d2e8-4aad-9a8e-6784b6abb038"
      },
      "outputs": [
        {
          "data": {
            "text/html": [
              "\n",
              "  <div id=\"df-090ca768-d6ee-464e-bb65-9ab63b3acf1f\">\n",
              "    <div class=\"colab-df-container\">\n",
              "      <div>\n",
              "<style scoped>\n",
              "    .dataframe tbody tr th:only-of-type {\n",
              "        vertical-align: middle;\n",
              "    }\n",
              "\n",
              "    .dataframe tbody tr th {\n",
              "        vertical-align: top;\n",
              "    }\n",
              "\n",
              "    .dataframe thead th {\n",
              "        text-align: right;\n",
              "    }\n",
              "</style>\n",
              "<table border=\"1\" class=\"dataframe\">\n",
              "  <thead>\n",
              "    <tr style=\"text-align: right;\">\n",
              "      <th></th>\n",
              "      <th>Weekday</th>\n",
              "      <th>Date</th>\n",
              "      <th>Month</th>\n",
              "      <th>Airline</th>\n",
              "      <th>Source</th>\n",
              "      <th>Destination</th>\n",
              "      <th>Route</th>\n",
              "      <th>Dep_Time</th>\n",
              "      <th>Arrival_Time</th>\n",
              "      <th>Duration</th>\n",
              "      <th>Total_Stops</th>\n",
              "      <th>Additional_Info</th>\n",
              "    </tr>\n",
              "  </thead>\n",
              "  <tbody>\n",
              "    <tr>\n",
              "      <th>0</th>\n",
              "      <td>6</td>\n",
              "      <td>24</td>\n",
              "      <td>3</td>\n",
              "      <td>3</td>\n",
              "      <td>0</td>\n",
              "      <td>3</td>\n",
              "      <td>18</td>\n",
              "      <td>0.058923</td>\n",
              "      <td>0.953370</td>\n",
              "      <td>0.942207</td>\n",
              "      <td>0</td>\n",
              "      <td>8</td>\n",
              "    </tr>\n",
              "    <tr>\n",
              "      <th>1</th>\n",
              "      <td>2</td>\n",
              "      <td>1</td>\n",
              "      <td>5</td>\n",
              "      <td>1</td>\n",
              "      <td>3</td>\n",
              "      <td>1</td>\n",
              "      <td>84</td>\n",
              "      <td>0.766850</td>\n",
              "      <td>0.442560</td>\n",
              "      <td>0.845884</td>\n",
              "      <td>2</td>\n",
              "      <td>8</td>\n",
              "    </tr>\n",
              "    <tr>\n",
              "      <th>2</th>\n",
              "      <td>6</td>\n",
              "      <td>9</td>\n",
              "      <td>6</td>\n",
              "      <td>4</td>\n",
              "      <td>2</td>\n",
              "      <td>4</td>\n",
              "      <td>118</td>\n",
              "      <td>0.607885</td>\n",
              "      <td>0.819839</td>\n",
              "      <td>0.602452</td>\n",
              "      <td>2</td>\n",
              "      <td>8</td>\n",
              "    </tr>\n",
              "    <tr>\n",
              "      <th>3</th>\n",
              "      <td>6</td>\n",
              "      <td>12</td>\n",
              "      <td>5</td>\n",
              "      <td>3</td>\n",
              "      <td>3</td>\n",
              "      <td>3</td>\n",
              "      <td>91</td>\n",
              "      <td>0.234845</td>\n",
              "      <td>0.012293</td>\n",
              "      <td>0.887916</td>\n",
              "      <td>1</td>\n",
              "      <td>8</td>\n",
              "    </tr>\n",
              "    <tr>\n",
              "      <th>4</th>\n",
              "      <td>4</td>\n",
              "      <td>1</td>\n",
              "      <td>3</td>\n",
              "      <td>3</td>\n",
              "      <td>0</td>\n",
              "      <td>3</td>\n",
              "      <td>29</td>\n",
              "      <td>0.300551</td>\n",
              "      <td>0.094955</td>\n",
              "      <td>0.901926</td>\n",
              "      <td>1</td>\n",
              "      <td>8</td>\n",
              "    </tr>\n",
              "    <tr>\n",
              "      <th>...</th>\n",
              "      <td>...</td>\n",
              "      <td>...</td>\n",
              "      <td>...</td>\n",
              "      <td>...</td>\n",
              "      <td>...</td>\n",
              "      <td>...</td>\n",
              "      <td>...</td>\n",
              "      <td>...</td>\n",
              "      <td>...</td>\n",
              "      <td>...</td>\n",
              "      <td>...</td>\n",
              "      <td>...</td>\n",
              "    </tr>\n",
              "    <tr>\n",
              "      <th>10677</th>\n",
              "      <td>1</td>\n",
              "      <td>9</td>\n",
              "      <td>4</td>\n",
              "      <td>0</td>\n",
              "      <td>3</td>\n",
              "      <td>0</td>\n",
              "      <td>64</td>\n",
              "      <td>0.171259</td>\n",
              "      <td>0.056804</td>\n",
              "      <td>0.949212</td>\n",
              "      <td>0</td>\n",
              "      <td>8</td>\n",
              "    </tr>\n",
              "    <tr>\n",
              "      <th>10678</th>\n",
              "      <td>5</td>\n",
              "      <td>27</td>\n",
              "      <td>4</td>\n",
              "      <td>1</td>\n",
              "      <td>3</td>\n",
              "      <td>1</td>\n",
              "      <td>64</td>\n",
              "      <td>0.133107</td>\n",
              "      <td>0.016532</td>\n",
              "      <td>0.947461</td>\n",
              "      <td>0</td>\n",
              "      <td>8</td>\n",
              "    </tr>\n",
              "    <tr>\n",
              "      <th>10679</th>\n",
              "      <td>5</td>\n",
              "      <td>27</td>\n",
              "      <td>4</td>\n",
              "      <td>4</td>\n",
              "      <td>0</td>\n",
              "      <td>4</td>\n",
              "      <td>18</td>\n",
              "      <td>0.652395</td>\n",
              "      <td>0.525223</td>\n",
              "      <td>0.938704</td>\n",
              "      <td>0</td>\n",
              "      <td>8</td>\n",
              "    </tr>\n",
              "    <tr>\n",
              "      <th>10680</th>\n",
              "      <td>4</td>\n",
              "      <td>1</td>\n",
              "      <td>3</td>\n",
              "      <td>10</td>\n",
              "      <td>0</td>\n",
              "      <td>10</td>\n",
              "      <td>18</td>\n",
              "      <td>0.520983</td>\n",
              "      <td>0.402289</td>\n",
              "      <td>0.945709</td>\n",
              "      <td>0</td>\n",
              "      <td>8</td>\n",
              "    </tr>\n",
              "    <tr>\n",
              "      <th>10681</th>\n",
              "      <td>3</td>\n",
              "      <td>9</td>\n",
              "      <td>5</td>\n",
              "      <td>1</td>\n",
              "      <td>2</td>\n",
              "      <td>1</td>\n",
              "      <td>108</td>\n",
              "      <td>0.552777</td>\n",
              "      <td>0.188215</td>\n",
              "      <td>0.826620</td>\n",
              "      <td>2</td>\n",
              "      <td>8</td>\n",
              "    </tr>\n",
              "  </tbody>\n",
              "</table>\n",
              "<p>10682 rows × 12 columns</p>\n",
              "</div>\n",
              "      <button class=\"colab-df-convert\" onclick=\"convertToInteractive('df-090ca768-d6ee-464e-bb65-9ab63b3acf1f')\"\n",
              "              title=\"Convert this dataframe to an interactive table.\"\n",
              "              style=\"display:none;\">\n",
              "        \n",
              "  <svg xmlns=\"http://www.w3.org/2000/svg\" height=\"24px\"viewBox=\"0 0 24 24\"\n",
              "       width=\"24px\">\n",
              "    <path d=\"M0 0h24v24H0V0z\" fill=\"none\"/>\n",
              "    <path d=\"M18.56 5.44l.94 2.06.94-2.06 2.06-.94-2.06-.94-.94-2.06-.94 2.06-2.06.94zm-11 1L8.5 8.5l.94-2.06 2.06-.94-2.06-.94L8.5 2.5l-.94 2.06-2.06.94zm10 10l.94 2.06.94-2.06 2.06-.94-2.06-.94-.94-2.06-.94 2.06-2.06.94z\"/><path d=\"M17.41 7.96l-1.37-1.37c-.4-.4-.92-.59-1.43-.59-.52 0-1.04.2-1.43.59L10.3 9.45l-7.72 7.72c-.78.78-.78 2.05 0 2.83L4 21.41c.39.39.9.59 1.41.59.51 0 1.02-.2 1.41-.59l7.78-7.78 2.81-2.81c.8-.78.8-2.07 0-2.86zM5.41 20L4 18.59l7.72-7.72 1.47 1.35L5.41 20z\"/>\n",
              "  </svg>\n",
              "      </button>\n",
              "      \n",
              "  <style>\n",
              "    .colab-df-container {\n",
              "      display:flex;\n",
              "      flex-wrap:wrap;\n",
              "      gap: 12px;\n",
              "    }\n",
              "\n",
              "    .colab-df-convert {\n",
              "      background-color: #E8F0FE;\n",
              "      border: none;\n",
              "      border-radius: 50%;\n",
              "      cursor: pointer;\n",
              "      display: none;\n",
              "      fill: #1967D2;\n",
              "      height: 32px;\n",
              "      padding: 0 0 0 0;\n",
              "      width: 32px;\n",
              "    }\n",
              "\n",
              "    .colab-df-convert:hover {\n",
              "      background-color: #E2EBFA;\n",
              "      box-shadow: 0px 1px 2px rgba(60, 64, 67, 0.3), 0px 1px 3px 1px rgba(60, 64, 67, 0.15);\n",
              "      fill: #174EA6;\n",
              "    }\n",
              "\n",
              "    [theme=dark] .colab-df-convert {\n",
              "      background-color: #3B4455;\n",
              "      fill: #D2E3FC;\n",
              "    }\n",
              "\n",
              "    [theme=dark] .colab-df-convert:hover {\n",
              "      background-color: #434B5C;\n",
              "      box-shadow: 0px 1px 3px 1px rgba(0, 0, 0, 0.15);\n",
              "      filter: drop-shadow(0px 1px 2px rgba(0, 0, 0, 0.3));\n",
              "      fill: #FFFFFF;\n",
              "    }\n",
              "  </style>\n",
              "\n",
              "      <script>\n",
              "        const buttonEl =\n",
              "          document.querySelector('#df-090ca768-d6ee-464e-bb65-9ab63b3acf1f button.colab-df-convert');\n",
              "        buttonEl.style.display =\n",
              "          google.colab.kernel.accessAllowed ? 'block' : 'none';\n",
              "\n",
              "        async function convertToInteractive(key) {\n",
              "          const element = document.querySelector('#df-090ca768-d6ee-464e-bb65-9ab63b3acf1f');\n",
              "          const dataTable =\n",
              "            await google.colab.kernel.invokeFunction('convertToInteractive',\n",
              "                                                     [key], {});\n",
              "          if (!dataTable) return;\n",
              "\n",
              "          const docLinkHtml = 'Like what you see? Visit the ' +\n",
              "            '<a target=\"_blank\" href=https://colab.research.google.com/notebooks/data_table.ipynb>data table notebook</a>'\n",
              "            + ' to learn more about interactive tables.';\n",
              "          element.innerHTML = '';\n",
              "          dataTable['output_type'] = 'display_data';\n",
              "          await google.colab.output.renderOutput(dataTable, element);\n",
              "          const docLink = document.createElement('div');\n",
              "          docLink.innerHTML = docLinkHtml;\n",
              "          element.appendChild(docLink);\n",
              "        }\n",
              "      </script>\n",
              "    </div>\n",
              "  </div>\n",
              "  "
            ],
            "text/plain": [
              "       Weekday  Date  Month  Airline  Source  Destination  Route  Dep_Time  \\\n",
              "0            6    24      3        3       0            3     18  0.058923   \n",
              "1            2     1      5        1       3            1     84  0.766850   \n",
              "2            6     9      6        4       2            4    118  0.607885   \n",
              "3            6    12      5        3       3            3     91  0.234845   \n",
              "4            4     1      3        3       0            3     29  0.300551   \n",
              "...        ...   ...    ...      ...     ...          ...    ...       ...   \n",
              "10677        1     9      4        0       3            0     64  0.171259   \n",
              "10678        5    27      4        1       3            1     64  0.133107   \n",
              "10679        5    27      4        4       0            4     18  0.652395   \n",
              "10680        4     1      3       10       0           10     18  0.520983   \n",
              "10681        3     9      5        1       2            1    108  0.552777   \n",
              "\n",
              "       Arrival_Time  Duration  Total_Stops  Additional_Info  \n",
              "0          0.953370  0.942207            0                8  \n",
              "1          0.442560  0.845884            2                8  \n",
              "2          0.819839  0.602452            2                8  \n",
              "3          0.012293  0.887916            1                8  \n",
              "4          0.094955  0.901926            1                8  \n",
              "...             ...       ...          ...              ...  \n",
              "10677      0.056804  0.949212            0                8  \n",
              "10678      0.016532  0.947461            0                8  \n",
              "10679      0.525223  0.938704            0                8  \n",
              "10680      0.402289  0.945709            0                8  \n",
              "10681      0.188215  0.826620            2                8  \n",
              "\n",
              "[10682 rows x 12 columns]"
            ]
          },
          "execution_count": 26,
          "metadata": {},
          "output_type": "execute_result"
        }
      ],
      "source": [
        "X1"
      ]
    },
    {
      "cell_type": "markdown",
      "metadata": {
        "id": "Y-wNrLGKF3Nh"
      },
      "source": [
        "# Train test split"
      ]
    },
    {
      "cell_type": "code",
      "execution_count": null,
      "metadata": {
        "id": "2ZeRlkU0c3ZK"
      },
      "outputs": [],
      "source": [
        "from sklearn.model_selection import train_test_split\n",
        "X_train, X_test, y_train, y_test = train_test_split(X, y, test_size=0.2,random_state=4)\n",
        "\n",
        "from sklearn.model_selection import train_test_split\n",
        "X_scaled_train, X_scaled_test, y_scaled_train, y_scaled_test = train_test_split(X_scaled, y, test_size=0.2,random_state=4)\n",
        "\n",
        "from sklearn.model_selection import train_test_split\n",
        "X_train1, X_test1, y_train1, y_test1 = train_test_split(X1, y, test_size=0.2,random_state=4)"
      ]
    },
    {
      "cell_type": "markdown",
      "metadata": {
        "id": "O-Y2amXLF8h9"
      },
      "source": [
        "# Different models"
      ]
    },
    {
      "cell_type": "code",
      "execution_count": null,
      "metadata": {
        "id": "-CTckcEp8zSM"
      },
      "outputs": [],
      "source": [
        "from sklearn.tree import DecisionTreeRegressor\n",
        "from sklearn.linear_model import LinearRegression\n",
        "from sklearn.ensemble import RandomForestRegressor\n",
        "from sklearn.ensemble import AdaBoostRegressor\n",
        "from lightgbm import LGBMRegressor\n",
        "from sklearn.metrics import r2_score\n",
        "\n",
        "\n",
        "dtr=DecisionTreeRegressor()\n",
        "lr=LinearRegression()\n",
        "rf=RandomForestRegressor()\n",
        "adb=AdaBoostRegressor()\n",
        "lgbm = LGBMRegressor()\n"
      ]
    },
    {
      "cell_type": "markdown",
      "metadata": {
        "id": "YvD7ZcM5GDaC"
      },
      "source": [
        "## Decision Tree"
      ]
    },
    {
      "cell_type": "code",
      "execution_count": null,
      "metadata": {
        "colab": {
          "base_uri": "https://localhost:8080/"
        },
        "id": "wPQ0EJJfc8cn",
        "outputId": "e1065edc-e775-4898-be4c-5e7ba72889f7"
      },
      "outputs": [
        {
          "name": "stdout",
          "output_type": "stream",
          "text": [
            "Train accuracy for X %\n",
            "99.60995758051358\n",
            "Test accuracy for X %\n",
            "81.57871737209729\n"
          ]
        }
      ],
      "source": [
        "dtr.fit(X_train,y_train)\n",
        "print(\"Train accuracy for X %\")\n",
        "print(dtr.score(X_train, y_train)*100)\n",
        "print(\"Test accuracy for X %\")\n",
        "print(dtr.score(X_test, y_test)*100)"
      ]
    },
    {
      "cell_type": "code",
      "execution_count": null,
      "metadata": {
        "colab": {
          "base_uri": "https://localhost:8080/"
        },
        "id": "G5OLGHTDSu0W",
        "outputId": "a227866e-10a6-429f-b502-6ebd2895cf86"
      },
      "outputs": [
        {
          "name": "stdout",
          "output_type": "stream",
          "text": [
            "Train accuracy for X scaled %\n",
            "99.60995758051358\n",
            "Test accuracy for X scaled %\n",
            "84.97938821331824\n"
          ]
        }
      ],
      "source": [
        "dtr.fit(X_scaled_train,y_scaled_train)\n",
        "print(\"Train accuracy for X scaled %\")\n",
        "print(dtr.score(X_scaled_train, y_scaled_train)*100)\n",
        "print(\"Test accuracy for X scaled %\")\n",
        "print(dtr.score(X_scaled_test, y_scaled_test)*100)"
      ]
    },
    {
      "cell_type": "code",
      "execution_count": null,
      "metadata": {
        "colab": {
          "base_uri": "https://localhost:8080/"
        },
        "id": "tXIALe85iiAG",
        "outputId": "800c450f-7aa5-465b-b403-8ff490bffee4"
      },
      "outputs": [
        {
          "name": "stdout",
          "output_type": "stream",
          "text": [
            "Train accuracy for X1 %\n",
            "99.60995758051358\n",
            "Test accuracy for X1 %\n",
            "81.63078280339332\n"
          ]
        }
      ],
      "source": [
        "dtr.fit(X_train1,y_train1)\n",
        "print(\"Train accuracy for X1 %\")\n",
        "print(dtr.score(X_train1, y_train1)*100)\n",
        "print(\"Test accuracy for X1 %\")\n",
        "print(dtr.score(X_test1, y_test1)*100)"
      ]
    },
    {
      "cell_type": "markdown",
      "metadata": {
        "id": "LVOFzbDEGJbG"
      },
      "source": [
        "## Linear Regressor"
      ]
    },
    {
      "cell_type": "code",
      "execution_count": null,
      "metadata": {
        "colab": {
          "base_uri": "https://localhost:8080/"
        },
        "id": "5Q9_hrf199YY",
        "outputId": "f01e4fa1-7396-472c-db89-f247561cf522"
      },
      "outputs": [
        {
          "name": "stdout",
          "output_type": "stream",
          "text": [
            "Train accuracy for X %\n",
            "43.74069921454614\n",
            "Test accuracy for X %\n",
            "43.72683323454216\n"
          ]
        }
      ],
      "source": [
        "lr.fit(X_train,y_train)\n",
        "print(\"Train accuracy for X %\")\n",
        "print(lr.score(X_train, y_train)*100)\n",
        "print(\"Test accuracy for X %\")\n",
        "print(lr.score(X_test, y_test)*100)"
      ]
    },
    {
      "cell_type": "code",
      "execution_count": null,
      "metadata": {
        "colab": {
          "base_uri": "https://localhost:8080/"
        },
        "id": "lIXu4ugIS1bO",
        "outputId": "ceef6f36-2f99-4e17-d30d-26c48559f2d2"
      },
      "outputs": [
        {
          "name": "stdout",
          "output_type": "stream",
          "text": [
            "Train accuracy for X scaled %\n",
            "43.74069921454614\n",
            "Test accuracy for X scaled %\n",
            "43.726833234542184\n"
          ]
        }
      ],
      "source": [
        "lr.fit(X_scaled_train,y_scaled_train)\n",
        "print(\"Train accuracy for X scaled %\")\n",
        "print(lr.score(X_scaled_train, y_scaled_train)*100)\n",
        "print(\"Test accuracy for X scaled %\")\n",
        "print(lr.score(X_scaled_test, y_scaled_test)*100)"
      ]
    },
    {
      "cell_type": "code",
      "execution_count": null,
      "metadata": {
        "colab": {
          "base_uri": "https://localhost:8080/"
        },
        "id": "b06n8XzxitVG",
        "outputId": "7184d2bd-bdbb-4ed8-f79e-05a84ed98ff3"
      },
      "outputs": [
        {
          "name": "stdout",
          "output_type": "stream",
          "text": [
            "Train accuracy for X1 %\n",
            "43.74069921454614\n",
            "Test accuracy for X1 %\n",
            "43.72683323454217\n"
          ]
        }
      ],
      "source": [
        "lr.fit(X_train1,y_train1)\n",
        "print(\"Train accuracy for X1 %\")\n",
        "print(lr.score(X_train1, y_train1)*100)\n",
        "print(\"Test accuracy for X1 %\")\n",
        "print(lr.score(X_test1, y_test1)*100)"
      ]
    },
    {
      "cell_type": "markdown",
      "metadata": {
        "id": "8YQofyCxGPQu"
      },
      "source": [
        "## Random Forest"
      ]
    },
    {
      "cell_type": "code",
      "execution_count": null,
      "metadata": {
        "colab": {
          "base_uri": "https://localhost:8080/"
        },
        "id": "SxfJC7hX_W6q",
        "outputId": "6153b3f3-6574-45d4-f755-baf9e4e8e692"
      },
      "outputs": [
        {
          "name": "stdout",
          "output_type": "stream",
          "text": [
            "Train accuracy for X %\n",
            "98.02695943832894\n",
            "Test accuracy for X %\n",
            "90.82444620435237\n"
          ]
        }
      ],
      "source": [
        "rf.fit(X_train,y_train)\n",
        "print(\"Train accuracy for X %\")\n",
        "print(rf.score(X_train, y_train)*100)\n",
        "print(\"Test accuracy for X %\")\n",
        "print(rf.score(X_test, y_test)*100)"
      ]
    },
    {
      "cell_type": "code",
      "execution_count": null,
      "metadata": {
        "colab": {
          "base_uri": "https://localhost:8080/"
        },
        "id": "u1VHZLAJS68_",
        "outputId": "89a8b02c-2657-41a8-948a-fd2349f41515"
      },
      "outputs": [
        {
          "name": "stdout",
          "output_type": "stream",
          "text": [
            "Train accuracy for X scaled %\n",
            "97.83697081727307\n",
            "Test accuracy for X  scaled %\n",
            "90.83365875989831\n"
          ]
        }
      ],
      "source": [
        "rf.fit(X_scaled_train,y_scaled_train)\n",
        "print(\"Train accuracy for X scaled %\")\n",
        "print(rf.score(X_scaled_train, y_scaled_train)*100)\n",
        "print(\"Test accuracy for X  scaled %\")\n",
        "print(rf.score(X_scaled_test, y_scaled_test)*100)"
      ]
    },
    {
      "cell_type": "code",
      "execution_count": null,
      "metadata": {
        "colab": {
          "base_uri": "https://localhost:8080/"
        },
        "id": "KwdC6rxNiyXj",
        "outputId": "6b3e7234-baca-42cf-e659-f2cd5e0d69b4"
      },
      "outputs": [
        {
          "name": "stdout",
          "output_type": "stream",
          "text": [
            "Train accuracy for X1 %\n",
            "97.818582577246\n",
            "Test accuracy for X1 %\n",
            "90.58562084804927\n"
          ]
        }
      ],
      "source": [
        "rf.fit(X_train1,y_train1)\n",
        "print(\"Train accuracy for X1 %\")\n",
        "print(rf.score(X_train1, y_train1)*100)\n",
        "print(\"Test accuracy for X1 %\")\n",
        "print(rf.score(X_test1, y_test1)*100)"
      ]
    },
    {
      "cell_type": "markdown",
      "metadata": {
        "id": "QDrBrjdxGTMU"
      },
      "source": [
        "## Adaboost"
      ]
    },
    {
      "cell_type": "code",
      "execution_count": null,
      "metadata": {
        "colab": {
          "base_uri": "https://localhost:8080/"
        },
        "id": "A3_f6A2qBMW8",
        "outputId": "11f32d72-54d3-4623-be5c-567e8c5bd709"
      },
      "outputs": [
        {
          "name": "stdout",
          "output_type": "stream",
          "text": [
            "Train accuracy for X %\n",
            "27.37031657556408\n",
            "Test accuracy for X %\n",
            "25.201134110168777\n"
          ]
        }
      ],
      "source": [
        "adb.fit(X_train,y_train)\n",
        "print(\"Train accuracy for X %\")\n",
        "print(adb.score(X_train, y_train)*100)\n",
        "print(\"Test accuracy for X %\")\n",
        "print(adb.score(X_test, y_test)*100)"
      ]
    },
    {
      "cell_type": "code",
      "execution_count": null,
      "metadata": {
        "colab": {
          "base_uri": "https://localhost:8080/"
        },
        "id": "zQEH7qpoTA52",
        "outputId": "cae28118-0fe0-4048-bd8f-d9d5d4dc9b51"
      },
      "outputs": [
        {
          "name": "stdout",
          "output_type": "stream",
          "text": [
            "Train accuracy for X scaled %\n",
            "20.856273737898313\n",
            "Test accuracy for X scaled %\n",
            "20.18109854151038\n"
          ]
        }
      ],
      "source": [
        "adb.fit(X_scaled_train,y_scaled_train)\n",
        "print(\"Train accuracy for X scaled %\")\n",
        "print(adb.score(X_scaled_train, y_scaled_train)*100)\n",
        "print(\"Test accuracy for X scaled %\")\n",
        "print(adb.score(X_scaled_test, y_scaled_test)*100)"
      ]
    },
    {
      "cell_type": "code",
      "execution_count": null,
      "metadata": {
        "colab": {
          "base_uri": "https://localhost:8080/"
        },
        "id": "6MoXzEvHi9KN",
        "outputId": "7f426bc5-59b0-4e82-c275-f8cc882027e1"
      },
      "outputs": [
        {
          "name": "stdout",
          "output_type": "stream",
          "text": [
            "Train accuracy for X1 %\n",
            "25.183611918629268\n",
            "Test accuracy for X1 %\n",
            "23.22579695260708\n"
          ]
        }
      ],
      "source": [
        "adb.fit(X_train1,y_train1)\n",
        "print(\"Train accuracy for X1 %\")\n",
        "print(adb.score(X_train1, y_train1)*100)\n",
        "print(\"Test accuracy for X1 %\")\n",
        "print(adb.score(X_test1, y_test1)*100)"
      ]
    },
    {
      "cell_type": "markdown",
      "metadata": {
        "id": "qdcptRczTHUf"
      },
      "source": [
        "## LGBM"
      ]
    },
    {
      "cell_type": "code",
      "execution_count": null,
      "metadata": {
        "colab": {
          "base_uri": "https://localhost:8080/"
        },
        "id": "9t5zbNw5wspQ",
        "outputId": "7043d0bd-feb5-4d21-9379-7441eba640bf"
      },
      "outputs": [
        {
          "name": "stdout",
          "output_type": "stream",
          "text": [
            "Train accuracy for X1 %\n",
            "91.19751156124397\n",
            "Test accuracy for X1 %\n",
            "87.72958418909886\n"
          ]
        }
      ],
      "source": [
        "lgbm.fit(X_train,y_train)\n",
        "print(\"Train accuracy for X1 %\")\n",
        "print(lgbm.score(X_train, y_train)*100)\n",
        "print(\"Test accuracy for X1 %\")\n",
        "print(lgbm.score(X_test, y_test)*100)"
      ]
    },
    {
      "cell_type": "code",
      "execution_count": null,
      "metadata": {
        "colab": {
          "base_uri": "https://localhost:8080/"
        },
        "id": "sPNwmUjO-fLp",
        "outputId": "48ef8b7f-8019-404f-a635-6da07eb9e6b8"
      },
      "outputs": [
        {
          "name": "stdout",
          "output_type": "stream",
          "text": [
            "Train accuracy for X scaled %\n",
            "91.31482891074846\n",
            "Test accuracy for X scaled %\n",
            "87.29602113617668\n"
          ]
        }
      ],
      "source": [
        "lgbm.fit(X_scaled_train,y_scaled_train)\n",
        "print(\"Train accuracy for X scaled %\")\n",
        "print(lgbm.score(X_scaled_train, y_scaled_train)*100)\n",
        "print(\"Test accuracy for X scaled %\")\n",
        "print(lgbm.score(X_scaled_test, y_scaled_test)*100)"
      ]
    },
    {
      "cell_type": "code",
      "execution_count": null,
      "metadata": {
        "colab": {
          "base_uri": "https://localhost:8080/"
        },
        "id": "XiNZTu7si_nJ",
        "outputId": "1e46c8df-8923-442a-e308-b9e7db8b0c7e"
      },
      "outputs": [
        {
          "name": "stdout",
          "output_type": "stream",
          "text": [
            "Train accuracy for X1 %\n",
            "91.09862122393474\n",
            "Test accuracy for X1 %\n",
            "87.31160824341787\n"
          ]
        }
      ],
      "source": [
        "lgbm.fit(X_train1,y_train1)\n",
        "print(\"Train accuracy for X1 %\")\n",
        "print(lgbm.score(X_train1, y_train1)*100)\n",
        "print(\"Test accuracy for X1 %\")\n",
        "print(lgbm.score(X_test1, y_test1)*100)"
      ]
    },
    {
      "cell_type": "markdown",
      "metadata": {
        "id": "AxdQlD5-QI4J"
      },
      "source": [
        "# Final Comparison"
      ]
    },
    {
      "cell_type": "markdown",
      "metadata": {
        "id": "sKWiL4WaXM0m"
      },
      "source": [
        "## Two models best that show the best result are Random forest and LGBM analyzing them futher"
      ]
    },
    {
      "cell_type": "markdown",
      "metadata": {
        "id": "Rmf1MquDjvQb"
      },
      "source": [
        "### Random Forest"
      ]
    },
    {
      "cell_type": "code",
      "execution_count": null,
      "metadata": {
        "colab": {
          "base_uri": "https://localhost:8080/"
        },
        "id": "lzyNnMpJNR8d",
        "outputId": "af3a92e2-447b-4ad0-ac94-bd5ddb1e338f"
      },
      "outputs": [
        {
          "name": "stdout",
          "output_type": "stream",
          "text": [
            "100 15 96.82941542976403\n",
            "100 15 90.5019103287262\n",
            "\n",
            "200 15 96.74554658844866\n",
            "200 15 90.74503273590496\n",
            "\n",
            "300 15 96.86368622724922\n",
            "300 15 90.76103969154697\n",
            "\n",
            "400 15 96.82470647115754\n",
            "400 15 90.61938631885815\n",
            "\n",
            "500 15 96.82830992379785\n",
            "500 15 90.54553250078379\n",
            "\n",
            "600 15 96.88785879359388\n",
            "600 15 90.44816045785035\n",
            "\n",
            "700 15 96.8371824582124\n",
            "700 15 90.58939446715387\n",
            "\n",
            "800 15 96.88208495858727\n",
            "800 15 90.79970320760793\n",
            "\n",
            "900 15 96.85418904292969\n",
            "900 15 90.53900131019506\n",
            "\n",
            "1000 15 96.8742543765874\n",
            "1000 15 90.64284959371294\n",
            "\n"
          ]
        }
      ],
      "source": [
        "Train_accuracy=[]\n",
        "Test_accuracy=[]\n",
        "for i in range(1,11):\n",
        "  max=0\n",
        "  max_t=0\n",
        "  for j in range(2,16):\n",
        "    rf1=RandomForestRegressor(n_estimators=100*i,max_depth=j)\n",
        "    rf1.fit(X_scaled_train,y_scaled_train)\n",
        "    if(rf1.score(X_scaled_test, y_scaled_test)*100>max_t):\n",
        "      max=(rf1.score(X_scaled_train, y_scaled_train)*100)\n",
        "      max_t=(rf1.score(X_scaled_test, y_scaled_test)*100)\n",
        "      j1=j\n",
        "  print(i*100,j1,max)\n",
        "  print(i*100,j1,max_t)\n",
        "  Train_accuracy.append(max)\n",
        "  Test_accuracy.append(max_t)\n",
        "  print()"
      ]
    },
    {
      "cell_type": "code",
      "execution_count": null,
      "metadata": {
        "colab": {
          "base_uri": "https://localhost:8080/",
          "height": 296
        },
        "id": "-HqptemVns6s",
        "outputId": "7bd61ab9-dee3-4df3-9122-f2954ce19e48"
      },
      "outputs": [
        {
          "data": {
            "image/png": "[encoded data removed]",
            "text/plain": [
              "<Figure size 432x288 with 1 Axes>"
            ]
          },
          "metadata": {},
          "output_type": "display_data"
        }
      ],
      "source": [
        "plt.plot(range(100,1100,100),Test_accuracy)\n",
        "plt.plot(100*np.argmax(Test_accuracy)+100,max(Test_accuracy),'r*')\n",
        "plt.axvspan(100*np.argmax(Test_accuracy)+100-0.01,np.argmax(Test_accuracy)+0.01, color='red', alpha=0.5)\n",
        "plt.title('Random Forest Regressor')\n",
        "plt.xlabel('n_estimators')\n",
        "plt.ylabel('Test Accuracy')\n",
        "plt.show()"
      ]
    },
    {
      "cell_type": "markdown",
      "metadata": {
        "id": "MNFCdSJbjPCG"
      },
      "source": [
        "#### From above graph we can see n_estimators = 500 is best for random forest with max depth 15 running for all types of preproccessing we get"
      ]
    },
    {
      "cell_type": "code",
      "execution_count": null,
      "metadata": {
        "colab": {
          "base_uri": "https://localhost:8080/"
        },
        "id": "_EotHqzZZPvI",
        "outputId": "7ceaed98-4e68-4be1-aa03-154d5ae3b643"
      },
      "outputs": [
        {
          "name": "stdout",
          "output_type": "stream",
          "text": [
            "Train accuracy for X %\n",
            "96.87241559733776\n",
            "Test accuracy for X %\n",
            "90.42537335225343\n",
            "\n",
            "Train accuracy for X scaled %\n",
            "96.88179300030669\n",
            "Test accuracy for X scaled %\n",
            "90.72714706181819\n",
            "\n",
            "Train accuracy for X1 %\n",
            "96.83736665732432\n",
            "Test accuracy for X1 %\n",
            "90.5243273742691\n"
          ]
        }
      ],
      "source": [
        "rf1=RandomForestRegressor(n_estimators=500,max_depth=15)\n",
        "rf1.fit(X_train,y_train)\n",
        "print(\"Train accuracy for X %\")\n",
        "print(rf1.score(X_train, y_train)*100)\n",
        "print(\"Test accuracy for X %\")\n",
        "print(rf1.score(X_test, y_test)*100)\n",
        "\n",
        "print()\n",
        "\n",
        "rf1.fit(X_scaled_train,y_scaled_train)\n",
        "print(\"Train accuracy for X scaled %\")\n",
        "print(rf1.score(X_scaled_train, y_scaled_train)*100)\n",
        "print(\"Test accuracy for X scaled %\")\n",
        "print(rf1.score(X_scaled_test, y_scaled_test)*100)\n",
        "\n",
        "print()\n",
        "\n",
        "rf1.fit(X_train1,y_train1)\n",
        "print(\"Train accuracy for X1 %\")\n",
        "print(rf1.score(X_train1, y_train1)*100)\n",
        "print(\"Test accuracy for X1 %\")\n",
        "print(rf1.score(X_test1, y_test1)*100)\n",
        "\n"
      ]
    },
    {
      "cell_type": "markdown",
      "metadata": {
        "id": "L9ofzsk8jrlG"
      },
      "source": [
        "### LGBM"
      ]
    },
    {
      "cell_type": "code",
      "execution_count": null,
      "metadata": {
        "colab": {
          "background_save": true,
          "base_uri": "https://localhost:8080/"
        },
        "id": "jkOpRyRtKdP5",
        "outputId": "f8cebd6c-d13b-406a-c9e3-72674d1ba053"
      },
      "outputs": [
        {
          "name": "stdout",
          "output_type": "stream",
          "text": [
            "100 0.27 7 94.00808830282793\n",
            "100 0.27 7 89.37545851127943\n",
            "\n",
            "200 0.27 7 96.08992390890675\n",
            "200 0.27 7 90.80131524308545\n",
            "\n",
            "300 0.29 7 97.29354287534218\n",
            "300 0.29 7 91.53234266185409\n",
            "\n",
            "400 0.29 7 97.86626915944291\n",
            "400 0.29 7 91.81909436196611\n",
            "\n",
            "500 0.27 7 98.06153724650144\n",
            "500 0.27 7 91.99366977004782\n",
            "\n",
            "600 0.27 7 98.36961770955692\n",
            "600 0.27 7 92.12952282899144\n",
            "\n",
            "700 0.27 7 98.57904112476152\n",
            "700 0.27 7 92.2557261530619\n",
            "\n",
            "800 0.27 7 98.73967272974367\n",
            "800 0.27 7 92.2629128061887\n",
            "\n",
            "900 0.25 5 97.66509563043155\n",
            "900 0.25 5 92.28484752487194\n",
            "\n",
            "1000 0.25 5 97.84689535599865\n",
            "1000 0.25 5 92.35593747824495\n",
            "\n",
            "1100 0.21 7 98.81372377338666\n",
            "1100 0.21 7 92.33105402121699\n",
            "\n",
            "1200 0.25 5 98.15245865932637\n",
            "1200 0.25 5 92.36982635977266\n",
            "\n",
            "1300 0.15 7 98.61351209092587\n",
            "1300 0.15 7 92.36386236439537\n",
            "\n",
            "1400 0.25 5 98.389088766471\n",
            "1400 0.25 5 92.38854923596624\n",
            "\n",
            "1500 0.25 5 98.4826524394263\n",
            "1500 0.25 5 92.3798725291991\n",
            "\n"
          ]
        }
      ],
      "source": [
        "Train_accuracy_l=[]\n",
        "Test_accuracy_l=[]\n",
        "for i in range(1,16):\n",
        "  max=0\n",
        "  max_t=0\n",
        "  for j in range(2,8):\n",
        "    for k in  range(1,30,2):\n",
        "      lgbm1 = LGBMRegressor(n_estimators=i*100,learning_rate=k/100,max_depth=j)\n",
        "      lgbm1.fit(X_train,y_train)\n",
        "      if(lgbm1.score(X_test, y_test)*100>max_t):\n",
        "        max=(lgbm1.score(X_train, y_train)*100)\n",
        "        max_t=(lgbm1.score(X_test, y_test)*100)\n",
        "        j1=j\n",
        "        k1=k\n",
        "  print(i*100,k1/100,j1,max)\n",
        "  print(i*100,k1/100,j1,max_t)\n",
        "  Train_accuracy_l.append(max)\n",
        "  Test_accuracy_l.append(max_t)\n",
        "  print()"
      ]
    },
    {
      "cell_type": "code",
      "execution_count": null,
      "metadata": {
        "colab": {
          "background_save": true
        },
        "id": "qsJWF9pMoGdw",
        "outputId": "f79049be-7a59-45b8-fa3e-b9c39de1fef4"
      },
      "outputs": [
        {
          "data": {
            "image/png": "[encoded data removed]",
            "text/plain": [
              "<Figure size 432x288 with 1 Axes>"
            ]
          },
          "metadata": {},
          "output_type": "display_data"
        }
      ],
      "source": [
        "plt.plot(range(100,1600,100),Test_accuracy_l)\n",
        "plt.plot(100*np.argmax(Test_accuracy_l)+100,92.3698,'r*')\n",
        "plt.axvspan(100*np.argmax(Test_accuracy_l)+100*np.argmax(Test_accuracy)+100-0.01,1200+0.01, color='red', alpha=0.5)\n",
        "plt.title('LGBM Regressor')\n",
        "plt.xlabel('n_estimators')\n",
        "plt.ylabel('Test Accuracy')\n",
        "plt.show()"
      ]
    },
    {
      "cell_type": "markdown",
      "metadata": {
        "id": "lD20xLjRj_Cw"
      },
      "source": [
        "#### From the above data we can compute n_estimators=1200,learning_rate=0.25,max_depth=5 is the best for LGBM although"
      ]
    },
    {
      "cell_type": "code",
      "execution_count": null,
      "metadata": {
        "colab": {
          "background_save": true
        },
        "id": "GKmiYcdAZtwz",
        "outputId": "2435639c-b58b-4e2c-d084-3ff5d179d9c4"
      },
      "outputs": [
        {
          "name": "stdout",
          "output_type": "stream",
          "text": [
            "Train accuracy for X %\n",
            "98.15245865932637\n",
            "Test accuracy for X %\n",
            "92.36982635977266\n",
            "\n",
            "Train accuracy for X1 %\n",
            "98.11115537762166\n",
            "Test accuracy for X1 %\n",
            "92.05438862641249\n",
            "\n",
            "Train accuracy for X1 %\n",
            "98.1686859022238\n",
            "Test accuracy for X1 %\n",
            "91.68774223350593\n"
          ]
        }
      ],
      "source": [
        "lgbm1 = LGBMRegressor(n_estimators=1200,learning_rate=0.25,max_depth=5)\n",
        "lgbm1.fit(X_train,y_train)\n",
        "print(\"Train accuracy for X %\")\n",
        "print(lgbm1.score(X_train, y_train)*100)\n",
        "print(\"Test accuracy for X %\")\n",
        "print(lgbm1.score(X_test, y_test)*100)\n",
        "\n",
        "print()\n",
        "\n",
        "lgbm1.fit(X_scaled_train,y_scaled_train)\n",
        "print(\"Train accuracy for X1 %\")\n",
        "print(lgbm1.score(X_scaled_train, y_scaled_train)*100)\n",
        "print(\"Test accuracy for X1 %\")\n",
        "print(lgbm1.score(X_scaled_test, y_scaled_test)*100)\n",
        "\n",
        "print()\n",
        "\n",
        "lgbm1.fit(X_train1,y_train1)\n",
        "print(\"Train accuracy for X1 %\")\n",
        "print(lgbm1.score(X_train1, y_train1)*100)\n",
        "print(\"Test accuracy for X1 %\")\n",
        "print(lgbm1.score(X_test1, y_test1)*100)"
      ]
    },
    {
      "cell_type": "markdown",
      "metadata": {
        "id": "rZv6Y4XDOhyz"
      },
      "source": [
        "# Pipeline"
      ]
    },
    {
      "cell_type": "code",
      "execution_count": null,
      "metadata": {
        "colab": {
          "background_save": true
        },
        "id": "enJ8506wOs-x"
      },
      "outputs": [],
      "source": [
        "from sklearn.pipeline import Pipeline\n",
        "from sklearn.base import BaseEstimator\n",
        "from sklearn.base import TransformerMixin"
      ]
    },
    {
      "cell_type": "code",
      "execution_count": null,
      "metadata": {
        "colab": {
          "background_save": true
        },
        "id": "3m9jfmZYPOpW"
      },
      "outputs": [],
      "source": [
        "class Pl(BaseEstimator,TransformerMixin):\n",
        "  def __init__(self):\n",
        "    print('called init')\n",
        "    print()\n",
        "\n",
        "  def fit(self,X_wp,y=None):\n",
        "    print('called fit')\n",
        "    print()\n",
        "    return self\n",
        "\n",
        "  def transform(self,X_wp,y=None):\n",
        "    print('called transform')\n",
        "    print()\n",
        "    X=X_wp.copy()\n",
        "\n",
        "    from datetime import date\n",
        "    weekday=[]\n",
        "    for i in X['Date_of_Journey']:\n",
        "      a = i.split(\"/\")\n",
        "      d  =int(a[0])                                                           # Add Weekday column\n",
        "      m = int(a[1])\n",
        "      y1 = int(a[2])\n",
        "      weekday.append(date(y1,m,d).weekday())\n",
        "    X['Weekday']=weekday\n",
        "\n",
        "    date=[]\n",
        "    month=[]\n",
        "    for i in X['Date_of_Journey']:\n",
        "      w=i.split('/')\n",
        "      if (w[0][0]=='0'):\n",
        "        date.append(int(w[0][1]))\n",
        "      else:\n",
        "        date.append(int(w[0]))\n",
        "      month.append(int(w[1][1]))\n",
        "    X['Date']=date                                                                # Converting Date of journey to Date and month\n",
        "    X['Month']=month\n",
        "    X=X.drop(['Date_of_Journey'],axis=1)\n",
        "\n",
        "    cols=X.columns.tolist()\n",
        "    cols=cols[-3:]+cols[:-3]                                                      # Repositioning the columns\n",
        "\n",
        "\n",
        "\n",
        "    for i in range(len(X['Dep_Time'])):\n",
        "        s=X['Dep_Time'].iloc[i]\n",
        "        s=str(s)\n",
        "        s=s.replace(':','')\n",
        "        X['Dep_Time'].iloc[i]=int(s)\n",
        "        X['Dep_Time']=X['Dep_Time'].tolist()\n",
        "\n",
        "    for i in range(len(X['Arrival_Time'])):\n",
        "        s=X['Arrival_Time'].iloc[i]\n",
        "        s=str(s)\n",
        "        s=s.split(' ')[0]\n",
        "        s=s.replace(':','')\n",
        "        X['Arrival_Time'].iloc[i]=int(s)\n",
        "        X['Arrival_Time']=X['Arrival_Time'].tolist()\n",
        "                                                              # Converting Dep and arrival time to military hours and duration in minuts\n",
        "    X['Duration']=X['Duration'].str.replace(\"h\",'*60').str.replace(' ','+').str.replace('m','*1').apply(eval)\n",
        "    for i in range(len(X['Duration'])):\n",
        "      X['Duration'].iloc[i]=int(X['Duration'].iloc[i])\n",
        "    X['Duration']=X['Duration'].tolist()\n",
        "\n",
        "    X['Total_Stops']=X['Total_Stops'].replace([ 'non-stop','1 stop','2 stops','3 stops','4 stops'], [int(0),int(1),int(2),int(3),int(3)])\n",
        "    X['Total_Stops']=X['Total_Stops'].astype(str).astype(int)\n",
        "\n",
        "\n",
        "\n",
        "    from sklearn import preprocessing\n",
        "    le = preprocessing.LabelEncoder()\n",
        "    X['Airline']=le.fit_transform(X['Airline'])\n",
        "    X['Source']=le.fit_transform(X['Source'])\n",
        "    X['Destination']=le.fit_transform(X['Airline'])                               # Label encoding\n",
        "    X['Additional_Info']=le.fit_transform(X['Additional_Info'])\n",
        "    X['Route']=le.fit_transform(X['Route'])\n",
        "\n",
        "\n",
        "\n",
        "    return X"
      ]
    },
    {
      "cell_type": "code",
      "execution_count": null,
      "metadata": {
        "colab": {
          "background_save": true
        },
        "id": "Um-F6h-0tAIQ",
        "outputId": "5f30efcc-4f0a-4983-9539-5106b706064f"
      },
      "outputs": [
        {
          "name": "stdout",
          "output_type": "stream",
          "text": [
            "called init\n",
            "\n"
          ]
        }
      ],
      "source": [
        "pipe=Pipeline(steps=[('class',Pl()),('model',LGBMRegressor(n_estimators=1200,learning_rate=0.25,max_depth=5))])"
      ]
    },
    {
      "cell_type": "code",
      "execution_count": null,
      "metadata": {
        "colab": {
          "background_save": true
        },
        "id": "IKreSiiJvLoy"
      },
      "outputs": [],
      "source": [
        "run2pipe=pd.read_csv('/content/drive/MyDrive/Bonus_project-airline.csv')"
      ]
    },
    {
      "cell_type": "code",
      "execution_count": null,
      "metadata": {
        "colab": {
          "background_save": true
        },
        "id": "jwpHT_N8w4MI"
      },
      "outputs": [],
      "source": [
        "run2pipe=run2pipe.dropna()\n",
        "run2pipe=run2pipe.reset_index()                                                         # Drop NA values\n",
        "run2pipe=run2pipe.drop(['index'],axis=1)"
      ]
    },
    {
      "cell_type": "code",
      "execution_count": null,
      "metadata": {
        "colab": {
          "background_save": true
        },
        "id": "vnaqko8MvPnX"
      },
      "outputs": [],
      "source": [
        "X_pipe=run2pipe.drop(['Price'],axis=1)\n",
        "y_pipe=run2pipe['Price']"
      ]
    },
    {
      "cell_type": "code",
      "execution_count": null,
      "metadata": {
        "colab": {
          "background_save": true
        },
        "id": "ORhAOkJvwD71"
      },
      "outputs": [],
      "source": [
        "from sklearn.model_selection import train_test_split\n",
        "X_pipe_train, X_pipe_test, y_pipe_train, y_pipe_test = train_test_split(X_pipe, y_pipe, test_size=0.2,random_state=4)"
      ]
    },
    {
      "cell_type": "code",
      "execution_count": null,
      "metadata": {
        "colab": {
          "background_save": true
        },
        "id": "4PYNLky-2n8e",
        "outputId": "eb9c89dc-0780-4723-b597-0803469d0d80"
      },
      "outputs": [
        {
          "data": {
            "text/html": [
              "\n",
              "  <div id=\"df-bd2c3929-9173-45d8-9e8e-b4be2acc54ad\">\n",
              "    <div class=\"colab-df-container\">\n",
              "      <div>\n",
              "<style scoped>\n",
              "    .dataframe tbody tr th:only-of-type {\n",
              "        vertical-align: middle;\n",
              "    }\n",
              "\n",
              "    .dataframe tbody tr th {\n",
              "        vertical-align: top;\n",
              "    }\n",
              "\n",
              "    .dataframe thead th {\n",
              "        text-align: right;\n",
              "    }\n",
              "</style>\n",
              "<table border=\"1\" class=\"dataframe\">\n",
              "  <thead>\n",
              "    <tr style=\"text-align: right;\">\n",
              "      <th></th>\n",
              "      <th>Airline</th>\n",
              "      <th>Date_of_Journey</th>\n",
              "      <th>Source</th>\n",
              "      <th>Destination</th>\n",
              "      <th>Route</th>\n",
              "      <th>Dep_Time</th>\n",
              "      <th>Arrival_Time</th>\n",
              "      <th>Duration</th>\n",
              "      <th>Total_Stops</th>\n",
              "      <th>Additional_Info</th>\n",
              "    </tr>\n",
              "  </thead>\n",
              "  <tbody>\n",
              "    <tr>\n",
              "      <th>7723</th>\n",
              "      <td>SpiceJet</td>\n",
              "      <td>6/06/2019</td>\n",
              "      <td>Chennai</td>\n",
              "      <td>Kolkata</td>\n",
              "      <td>MAA → CCU</td>\n",
              "      <td>09:45</td>\n",
              "      <td>12:00</td>\n",
              "      <td>2h 15m</td>\n",
              "      <td>non-stop</td>\n",
              "      <td>No check-in baggage included</td>\n",
              "    </tr>\n",
              "    <tr>\n",
              "      <th>5769</th>\n",
              "      <td>Jet Airways</td>\n",
              "      <td>21/05/2019</td>\n",
              "      <td>Delhi</td>\n",
              "      <td>Cochin</td>\n",
              "      <td>DEL → JAI → BOM → COK</td>\n",
              "      <td>05:30</td>\n",
              "      <td>19:00</td>\n",
              "      <td>13h 30m</td>\n",
              "      <td>2 stops</td>\n",
              "      <td>In-flight meal not included</td>\n",
              "    </tr>\n",
              "    <tr>\n",
              "      <th>4544</th>\n",
              "      <td>Jet Airways</td>\n",
              "      <td>24/03/2019</td>\n",
              "      <td>Kolkata</td>\n",
              "      <td>Banglore</td>\n",
              "      <td>CCU → BOM → BLR</td>\n",
              "      <td>21:10</td>\n",
              "      <td>08:10 25 Mar</td>\n",
              "      <td>11h</td>\n",
              "      <td>1 stop</td>\n",
              "      <td>No info</td>\n",
              "    </tr>\n",
              "    <tr>\n",
              "      <th>3617</th>\n",
              "      <td>Vistara</td>\n",
              "      <td>9/06/2019</td>\n",
              "      <td>Kolkata</td>\n",
              "      <td>Banglore</td>\n",
              "      <td>CCU → DEL → BLR</td>\n",
              "      <td>07:10</td>\n",
              "      <td>20:20</td>\n",
              "      <td>13h 10m</td>\n",
              "      <td>1 stop</td>\n",
              "      <td>No info</td>\n",
              "    </tr>\n",
              "    <tr>\n",
              "      <th>6558</th>\n",
              "      <td>IndiGo</td>\n",
              "      <td>01/03/2019</td>\n",
              "      <td>Banglore</td>\n",
              "      <td>New Delhi</td>\n",
              "      <td>BLR → DEL</td>\n",
              "      <td>22:20</td>\n",
              "      <td>01:10 02 Mar</td>\n",
              "      <td>2h 50m</td>\n",
              "      <td>non-stop</td>\n",
              "      <td>No info</td>\n",
              "    </tr>\n",
              "    <tr>\n",
              "      <th>...</th>\n",
              "      <td>...</td>\n",
              "      <td>...</td>\n",
              "      <td>...</td>\n",
              "      <td>...</td>\n",
              "      <td>...</td>\n",
              "      <td>...</td>\n",
              "      <td>...</td>\n",
              "      <td>...</td>\n",
              "      <td>...</td>\n",
              "      <td>...</td>\n",
              "    </tr>\n",
              "    <tr>\n",
              "      <th>6017</th>\n",
              "      <td>Air Asia</td>\n",
              "      <td>6/04/2019</td>\n",
              "      <td>Kolkata</td>\n",
              "      <td>Banglore</td>\n",
              "      <td>CCU → BLR</td>\n",
              "      <td>19:55</td>\n",
              "      <td>22:25</td>\n",
              "      <td>2h 30m</td>\n",
              "      <td>non-stop</td>\n",
              "      <td>No info</td>\n",
              "    </tr>\n",
              "    <tr>\n",
              "      <th>709</th>\n",
              "      <td>Vistara</td>\n",
              "      <td>15/06/2019</td>\n",
              "      <td>Banglore</td>\n",
              "      <td>Delhi</td>\n",
              "      <td>BLR → DEL</td>\n",
              "      <td>17:00</td>\n",
              "      <td>19:35</td>\n",
              "      <td>2h 35m</td>\n",
              "      <td>non-stop</td>\n",
              "      <td>No info</td>\n",
              "    </tr>\n",
              "    <tr>\n",
              "      <th>10679</th>\n",
              "      <td>Jet Airways</td>\n",
              "      <td>27/04/2019</td>\n",
              "      <td>Banglore</td>\n",
              "      <td>Delhi</td>\n",
              "      <td>BLR → DEL</td>\n",
              "      <td>08:20</td>\n",
              "      <td>11:20</td>\n",
              "      <td>3h</td>\n",
              "      <td>non-stop</td>\n",
              "      <td>No info</td>\n",
              "    </tr>\n",
              "    <tr>\n",
              "      <th>8366</th>\n",
              "      <td>Air India</td>\n",
              "      <td>12/06/2019</td>\n",
              "      <td>Kolkata</td>\n",
              "      <td>Banglore</td>\n",
              "      <td>CCU → BBI → BOM → BLR</td>\n",
              "      <td>12:00</td>\n",
              "      <td>21:50</td>\n",
              "      <td>9h 50m</td>\n",
              "      <td>2 stops</td>\n",
              "      <td>No info</td>\n",
              "    </tr>\n",
              "    <tr>\n",
              "      <th>1146</th>\n",
              "      <td>IndiGo</td>\n",
              "      <td>24/05/2019</td>\n",
              "      <td>Delhi</td>\n",
              "      <td>Cochin</td>\n",
              "      <td>DEL → BOM → COK</td>\n",
              "      <td>18:35</td>\n",
              "      <td>01:30 25 May</td>\n",
              "      <td>6h 55m</td>\n",
              "      <td>1 stop</td>\n",
              "      <td>No info</td>\n",
              "    </tr>\n",
              "  </tbody>\n",
              "</table>\n",
              "<p>8545 rows × 10 columns</p>\n",
              "</div>\n",
              "      <button class=\"colab-df-convert\" onclick=\"convertToInteractive('df-bd2c3929-9173-45d8-9e8e-b4be2acc54ad')\"\n",
              "              title=\"Convert this dataframe to an interactive table.\"\n",
              "              style=\"display:none;\">\n",
              "        \n",
              "  <svg xmlns=\"http://www.w3.org/2000/svg\" height=\"24px\"viewBox=\"0 0 24 24\"\n",
              "       width=\"24px\">\n",
              "    <path d=\"M0 0h24v24H0V0z\" fill=\"none\"/>\n",
              "    <path d=\"M18.56 5.44l.94 2.06.94-2.06 2.06-.94-2.06-.94-.94-2.06-.94 2.06-2.06.94zm-11 1L8.5 8.5l.94-2.06 2.06-.94-2.06-.94L8.5 2.5l-.94 2.06-2.06.94zm10 10l.94 2.06.94-2.06 2.06-.94-2.06-.94-.94-2.06-.94 2.06-2.06.94z\"/><path d=\"M17.41 7.96l-1.37-1.37c-.4-.4-.92-.59-1.43-.59-.52 0-1.04.2-1.43.59L10.3 9.45l-7.72 7.72c-.78.78-.78 2.05 0 2.83L4 21.41c.39.39.9.59 1.41.59.51 0 1.02-.2 1.41-.59l7.78-7.78 2.81-2.81c.8-.78.8-2.07 0-2.86zM5.41 20L4 18.59l7.72-7.72 1.47 1.35L5.41 20z\"/>\n",
              "  </svg>\n",
              "      </button>\n",
              "      \n",
              "  <style>\n",
              "    .colab-df-container {\n",
              "      display:flex;\n",
              "      flex-wrap:wrap;\n",
              "      gap: 12px;\n",
              "    }\n",
              "\n",
              "    .colab-df-convert {\n",
              "      background-color: #E8F0FE;\n",
              "      border: none;\n",
              "      border-radius: 50%;\n",
              "      cursor: pointer;\n",
              "      display: none;\n",
              "      fill: #1967D2;\n",
              "      height: 32px;\n",
              "      padding: 0 0 0 0;\n",
              "      width: 32px;\n",
              "    }\n",
              "\n",
              "    .colab-df-convert:hover {\n",
              "      background-color: #E2EBFA;\n",
              "      box-shadow: 0px 1px 2px rgba(60, 64, 67, 0.3), 0px 1px 3px 1px rgba(60, 64, 67, 0.15);\n",
              "      fill: #174EA6;\n",
              "    }\n",
              "\n",
              "    [theme=dark] .colab-df-convert {\n",
              "      background-color: #3B4455;\n",
              "      fill: #D2E3FC;\n",
              "    }\n",
              "\n",
              "    [theme=dark] .colab-df-convert:hover {\n",
              "      background-color: #434B5C;\n",
              "      box-shadow: 0px 1px 3px 1px rgba(0, 0, 0, 0.15);\n",
              "      filter: drop-shadow(0px 1px 2px rgba(0, 0, 0, 0.3));\n",
              "      fill: #FFFFFF;\n",
              "    }\n",
              "  </style>\n",
              "\n",
              "      <script>\n",
              "        const buttonEl =\n",
              "          document.querySelector('#df-bd2c3929-9173-45d8-9e8e-b4be2acc54ad button.colab-df-convert');\n",
              "        buttonEl.style.display =\n",
              "          google.colab.kernel.accessAllowed ? 'block' : 'none';\n",
              "\n",
              "        async function convertToInteractive(key) {\n",
              "          const element = document.querySelector('#df-bd2c3929-9173-45d8-9e8e-b4be2acc54ad');\n",
              "          const dataTable =\n",
              "            await google.colab.kernel.invokeFunction('convertToInteractive',\n",
              "                                                     [key], {});\n",
              "          if (!dataTable) return;\n",
              "\n",
              "          const docLinkHtml = 'Like what you see? Visit the ' +\n",
              "            '<a target=\"_blank\" href=https://colab.research.google.com/notebooks/data_table.ipynb>data table notebook</a>'\n",
              "            + ' to learn more about interactive tables.';\n",
              "          element.innerHTML = '';\n",
              "          dataTable['output_type'] = 'display_data';\n",
              "          await google.colab.output.renderOutput(dataTable, element);\n",
              "          const docLink = document.createElement('div');\n",
              "          docLink.innerHTML = docLinkHtml;\n",
              "          element.appendChild(docLink);\n",
              "        }\n",
              "      </script>\n",
              "    </div>\n",
              "  </div>\n",
              "  "
            ],
            "text/plain": [
              "           Airline Date_of_Journey    Source Destination  \\\n",
              "7723      SpiceJet       6/06/2019   Chennai     Kolkata   \n",
              "5769   Jet Airways      21/05/2019     Delhi      Cochin   \n",
              "4544   Jet Airways      24/03/2019   Kolkata    Banglore   \n",
              "3617       Vistara       9/06/2019   Kolkata    Banglore   \n",
              "6558        IndiGo      01/03/2019  Banglore   New Delhi   \n",
              "...            ...             ...       ...         ...   \n",
              "6017      Air Asia       6/04/2019   Kolkata    Banglore   \n",
              "709        Vistara      15/06/2019  Banglore       Delhi   \n",
              "10679  Jet Airways      27/04/2019  Banglore       Delhi   \n",
              "8366     Air India      12/06/2019   Kolkata    Banglore   \n",
              "1146        IndiGo      24/05/2019     Delhi      Cochin   \n",
              "\n",
              "                       Route Dep_Time  Arrival_Time Duration Total_Stops  \\\n",
              "7723               MAA → CCU    09:45         12:00   2h 15m    non-stop   \n",
              "5769   DEL → JAI → BOM → COK    05:30         19:00  13h 30m     2 stops   \n",
              "4544         CCU → BOM → BLR    21:10  08:10 25 Mar      11h      1 stop   \n",
              "3617         CCU → DEL → BLR    07:10         20:20  13h 10m      1 stop   \n",
              "6558               BLR → DEL    22:20  01:10 02 Mar   2h 50m    non-stop   \n",
              "...                      ...      ...           ...      ...         ...   \n",
              "6017               CCU → BLR    19:55         22:25   2h 30m    non-stop   \n",
              "709                BLR → DEL    17:00         19:35   2h 35m    non-stop   \n",
              "10679              BLR → DEL    08:20         11:20       3h    non-stop   \n",
              "8366   CCU → BBI → BOM → BLR    12:00         21:50   9h 50m     2 stops   \n",
              "1146         DEL → BOM → COK    18:35  01:30 25 May   6h 55m      1 stop   \n",
              "\n",
              "                    Additional_Info  \n",
              "7723   No check-in baggage included  \n",
              "5769    In-flight meal not included  \n",
              "4544                        No info  \n",
              "3617                        No info  \n",
              "6558                        No info  \n",
              "...                             ...  \n",
              "6017                        No info  \n",
              "709                         No info  \n",
              "10679                       No info  \n",
              "8366                        No info  \n",
              "1146                        No info  \n",
              "\n",
              "[8545 rows x 10 columns]"
            ]
          },
          "execution_count": null,
          "metadata": {},
          "output_type": "execute_result"
        }
      ],
      "source": [
        "X_pipe_train"
      ]
    },
    {
      "cell_type": "code",
      "execution_count": null,
      "metadata": {
        "colab": {
          "background_save": true
        },
        "id": "uHGpAZmAuXVz",
        "outputId": "5d56b84c-b6b0-44fa-ad2c-332bb8aee1dc"
      },
      "outputs": [
        {
          "name": "stdout",
          "output_type": "stream",
          "text": [
            "called fit\n",
            "\n",
            "called transform\n",
            "\n"
          ]
        },
        {
          "data": {
            "text/plain": [
              "Pipeline(steps=[('class', Pl()),\n",
              "                ('model',\n",
              "                 LGBMRegressor(learning_rate=0.25, max_depth=5,\n",
              "                               n_estimators=1200))])"
            ]
          },
          "execution_count": null,
          "metadata": {},
          "output_type": "execute_result"
        }
      ],
      "source": [
        "pipe.fit(X_pipe_train,y_pipe_train)"
      ]
    },
    {
      "cell_type": "code",
      "execution_count": null,
      "metadata": {
        "colab": {
          "background_save": true
        },
        "id": "uNdKp5ssvjg8",
        "outputId": "092592e5-80f4-42f3-d31f-613c4ff4549a"
      },
      "outputs": [
        {
          "name": "stdout",
          "output_type": "stream",
          "text": [
            "called transform\n",
            "\n"
          ]
        },
        {
          "data": {
            "text/plain": [
              "array([10199.25220373, 10165.77809273, 10323.1892159 , ...,\n",
              "       11778.92976836, 15092.63189649, 10802.22831276])"
            ]
          },
          "execution_count": null,
          "metadata": {},
          "output_type": "execute_result"
        }
      ],
      "source": [
        "y_pred=pipe.predict(X_pipe_test)\n",
        "y_pred"
      ]
    },
    {
      "cell_type": "code",
      "execution_count": null,
      "metadata": {
        "colab": {
          "background_save": true
        },
        "id": "HbPOhifY8J55",
        "outputId": "fa192d56-ae81-406b-9980-cc918d18a4ab"
      },
      "outputs": [
        {
          "data": {
            "text/plain": [
              "0.3019593381743344"
            ]
          },
          "execution_count": null,
          "metadata": {},
          "output_type": "execute_result"
        }
      ],
      "source": [
        "r2_score(y_pred,y_pipe_test)"
      ]
    },
    {
      "cell_type": "code",
      "execution_count": null,
      "metadata": {
        "colab": {
          "background_save": true
        },
        "id": "hpc2VxD_8g3j"
      },
      "outputs": [],
      "source": []
    }
  ],
  "metadata": {
    "colab": {
      "collapsed_sections": [
        "OH33Lg0TToT6",
        "n4lgsydbUH31",
        "5-qRshcAUfO-",
        "Am-Rx758FpTQ",
        "LZRgwPo2V6FZ",
        "k5oJA0cMWILa",
        "Y-wNrLGKF3Nh",
        "LVOFzbDEGJbG",
        "QDrBrjdxGTMU",
        "MNFCdSJbjPCG"
      ],
      "provenance": [],
      "mount_file_id": "1k7anjW-ZxnwyC2q1zCuesUO8nAi7qKqp",
      "authorship_tag": "ABX9TyMZWdVtsJdzJiaubWW4lZ2A",
      "include_colab_link": true
    },
    "kernelspec": {
      "display_name": "Python 3",
      "name": "python3"
    },
    "language_info": {
      "name": "python"
    }
  },
  "nbformat": 4,
  "nbformat_minor": 0
}